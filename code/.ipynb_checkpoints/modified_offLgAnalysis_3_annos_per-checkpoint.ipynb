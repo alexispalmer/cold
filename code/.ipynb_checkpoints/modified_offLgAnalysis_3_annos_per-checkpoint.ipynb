{
 "cells": [
  {
   "cell_type": "markdown",
   "metadata": {},
   "source": [
    "# Set Up"
   ]
  },
  {
   "cell_type": "code",
   "execution_count": 3,
   "metadata": {
    "colab": {},
    "colab_type": "code",
    "id": "4JwikgGCdEeC"
   },
   "outputs": [],
   "source": [
    "### basic imports, read in raw data file\n",
    "import csv, statistics, random, os\n",
    "import nltk\n",
    "from nltk import agreement\n",
    "from tqdm.notebook import tqdm\n",
    "data = []\n",
    "\n",
    "with open(os.path.abspath('../data/cold-all-1.0.tsv'),encoding='utf8') as infile:\n",
    "    csvreader = csv.reader(infile, delimiter=\"\\t\")\n",
    "    for row in csvreader:\n",
    "        data.append(row)"
   ]
  },
  {
   "cell_type": "code",
   "execution_count": 4,
   "metadata": {
    "colab": {
     "base_uri": "https://localhost:8080/",
     "height": 51
    },
    "colab_type": "code",
    "id": "N7Jd8fmndZZr",
    "outputId": "aee01e8c-6fb3-434f-8951-8a32d8d53fcc"
   },
   "outputs": [
    {
     "name": "stdout",
     "output_type": "stream",
     "text": [
      "[['COLDID', 'Annotator', 'OriginalID', 'Text', 'Q1', 'Q2', 'Q3', 'Q4'], ['1', 'A', 'D-5', 'You’re black? You don’t sound like you’re black', 'Y', 'N', 'Y', 'N']]\n",
      "7774\n"
     ]
    }
   ],
   "source": [
    "### check the data/header line\n",
    "print(data[:2])\n",
    "print(len(data))"
   ]
  },
  {
   "cell_type": "markdown",
   "metadata": {},
   "source": [
    "## Define Classes and Functions"
   ]
  },
  {
   "cell_type": "code",
   "execution_count": 13,
   "metadata": {
    "colab": {},
    "colab_type": "code",
    "id": "YNt-yrWvdlpj"
   },
   "outputs": [],
   "source": [
    "class Tweet: \n",
    "    def __init__(self, lines):     \n",
    "        self.lines = lines\n",
    "        self.id = ''\n",
    "        self.dataset = ''\n",
    "        self.annos = []\n",
    "        self.text = ''\n",
    "        self.off = []\n",
    "        self.slur = []\n",
    "        self.adjNom = []\n",
    "        self.dist = []\n",
    "        self.offMaj = ''\n",
    "        self.slurMaj = ''\n",
    "        self.adjNomMaj = ''\n",
    "        self.distMaj = ''\n",
    "        self.cat = ''\n",
    "        self.process()\n",
    "\n",
    "    def process(self):\n",
    "        #print(self.lines)\n",
    "        for line in self.lines:\n",
    "            if self.id != '':\n",
    "                if line[2] != self.id:\n",
    "                    print(\"Problem: ids don't match:\", line[2], self.id)\n",
    "                else: pass\n",
    "            else: \n",
    "                self.id = line[2]\n",
    "#REMOVE THIS CHECK BECAUSE SELF.ID INCLUDES DATASET\n",
    "#             if self.dataset != '':\n",
    "#                 if line[1] != self.dataset:\n",
    "#                     print(\"Problem: datasets don't match:\", line[1], self.dataset)\n",
    "#                 else: pass\n",
    "#             else: \n",
    "#                 self.dataset = line[1]\n",
    "            #if self.text != '':  ### removed this check because it catches only\n",
    "                                  ### trivial differences in the texts (punctuation, etc.)\n",
    "            #    if line[3] != self.text:\n",
    "            #        print(\"Problem: texts don't match:\", line[3], self.text)\n",
    "            #    else: pass\n",
    "            #else: \n",
    "            self.text = line[3]\n",
    "            self.annos.append(line[1])# Changed 2 to 1 because that is where the annotators are listed\n",
    "            self.off.append(line[4])\n",
    "            self.slur.append(line[5])\n",
    "            self.adjNom.append(line[6])\n",
    "            self.dist.append(line[7])\n",
    "\n",
    "        self.annoSet = set(self.annos)\n",
    "        if len(self.annoSet) != len(self.annos):\n",
    "            print(\"Duplicate annotations:\", self.id)\n",
    "           # input(\"got it? \")\n",
    "        else:\n",
    "            print(\"No duplicates:\", self.id)\n",
    "\n",
    "\n",
    "\n",
    "\n",
    "    def getMajVotes(self):\n",
    "        try:\n",
    "            self.offMaj = statistics.mode(self.off)\n",
    "        except:\n",
    "            #self.offMaj = random.choice(self.off)\n",
    "            print(\"no majority\", self.id)\n",
    "            self.offMaj = max(self.off) # if there's no majority, choose 'Y'\n",
    "            #countTies += 1\n",
    "\n",
    "        try:\n",
    "            self.slurMaj = statistics.mode(self.slur)\n",
    "        except:\n",
    "            #self.slurMaj = random.choice(self.slur)\n",
    "            print(\"no majority\", self.id)\n",
    "            self.slurMaj = max(self.slur)\n",
    "            #countTies += 1\n",
    "\n",
    "        try:\n",
    "            self.adjNomMaj = statistics.mode(self.adjNom)\n",
    "        except:\n",
    "            #self.adjNomMaj = random.choice(self.adjNom)\n",
    "            print(\"no majority\", self.id)\n",
    "            self.adjNomMaj = max(self.adjNom)\n",
    "            #countTies += 1\n",
    "\n",
    "        try:\n",
    "            self.distMaj = statistics.mode(self.dist)\n",
    "        except:\n",
    "            #self.distMaj = random.choice(self.dist)\n",
    "            print(\"no majority\", self.id)\n",
    "            self.distMaj = max(self.dist)\n",
    "            #countTies += 1\n",
    "    \n",
    "    def sort(self):\n",
    "        if self.offMaj == 'Y':\n",
    "            if self.slurMaj == 'Y':\n",
    "                #cats['offSlur'].append(self.id)\n",
    "                self.cat = 'offSlur'\n",
    "                return\n",
    "            elif self.adjNomMaj == 'Y':\n",
    "                if self.distMaj == 'Y':\n",
    "                    #cats['offBoth'].append(self.id)\n",
    "                    self.cat = 'offBoth'\n",
    "                    return\n",
    "                else:\n",
    "                    #cats['offNom'].append(self.id)\n",
    "                    self.cat = 'offNom'\n",
    "                    return\n",
    "            elif self.distMaj == 'Y':\n",
    "                #cats['offDist'].append(self.id)\n",
    "                self.cat = 'offDist'\n",
    "                return\n",
    "            else:\n",
    "                #cats['offOther'].append(self.id)\n",
    "                self.cat = 'offOther'\n",
    "                return\n",
    "        else:\n",
    "            if self.slurMaj == 'Y':\n",
    "                #cats['reclaimed'].append(self.id)\n",
    "                self.cat = 'reclaimed'\n",
    "                return\n",
    "            elif self.adjNomMaj == 'Y':\n",
    "                if self.distMaj == 'Y':\n",
    "                    #cats['nonBoth'].append(self.id)\n",
    "                    self.cat = 'nonBoth'\n",
    "                    return\n",
    "                else:\n",
    "                    #cats['nonNom'].append(self.id)\n",
    "                    self.cat = 'nonNom'\n",
    "                    return\n",
    "            elif self.distMaj == 'Y':\n",
    "                #cats['nonDist'].append(self.id)\n",
    "                self.cat = 'nonDist'\n",
    "                return\n",
    "            else:\n",
    "                #cats['nonNone'].append(self.id)\n",
    "                self.cat = 'nonNone'\n",
    "                return\n",
    "\n"
   ]
  },
  {
   "cell_type": "code",
   "execution_count": 10,
   "metadata": {
    "colab": {},
    "colab_type": "code",
    "id": "4v7aocWBt7ji"
   },
   "outputs": [],
   "source": [
    "def fixID(line):\n",
    "    #print(line)\n",
    "    currID = line[2]\n",
    "    currDataSet = line[1]\n",
    "    if currID.startswith('D') or currID.startswith('M') or currID.startswith('C') or currID.startswith('WH'):\n",
    "        pass\n",
    "        #print(\"surprise!\", currID)\n",
    "        #input(\"okay? \")\n",
    "    elif currDataSet:\n",
    "        newID = currDataSet+'-'+currID\n",
    "        line[2] = newID\n",
    "    else:\n",
    "        print(\"error:\", currDataSet, currID)\n",
    "        print(line)\n",
    "        input(\"? \")\n",
    "    return line"
   ]
  },
  {
   "cell_type": "code",
   "execution_count": 11,
   "metadata": {
    "colab": {},
    "colab_type": "code",
    "id": "q7znpTe_x-Yd"
   },
   "outputs": [],
   "source": [
    "def selectThree(group):\n",
    "    newGroup = []\n",
    "    groupCopy = group\n",
    "    print(\"starting selection on\", group[0][2])\n",
    "    #for line in group:\n",
    "     #   anno = line[0]\n",
    "      #  if anno == 'A' or anno == 'E' or anno == 'F':\n",
    "            #print(\"selected:\", anno)\n",
    "      #      newGroup.append(line)\n",
    "       #     groupCopy.remove(line)\n",
    "\n",
    "        #else: pass\n",
    "    while len(newGroup) < 3:\n",
    "        selected = random.choice(groupCopy)\n",
    "        #print(\"selected (rand):\", selected[0])\n",
    "        newGroup.append(selected)\n",
    "        groupCopy.remove(selected)\n",
    "    #input(\"selection finished - look okay? \")\n",
    "    if len(newGroup) == 3:\n",
    "        return newGroup\n",
    "    else:\n",
    "        print(\"problem:\", len(newGroup))\n",
    "\n",
    "        \n",
    "\n"
   ]
  },
  {
   "cell_type": "markdown",
   "metadata": {},
   "source": [
    "# Process Tweets"
   ]
  },
  {
   "cell_type": "code",
   "execution_count": 16,
   "metadata": {
    "colab": {
     "base_uri": "https://localhost:8080/",
     "height": 1000
    },
    "colab_type": "code",
    "id": "PEv23LW8guZq",
    "outputId": "864c48cc-f4d2-421e-906d-f3122333e72b"
   },
   "outputs": [
    {
     "name": "stdout",
     "output_type": "stream",
     "text": [
      "7774\n"
     ]
    },
    {
     "data": {
      "application/vnd.jupyter.widget-view+json": {
       "model_id": "286fb156688a4716bf6d2cb1af388c8c",
       "version_major": 2,
       "version_minor": 0
      },
      "text/plain": [
       "  0%|          | 0/7773 [00:00<?, ?it/s]"
      ]
     },
     "metadata": {},
     "output_type": "display_data"
    },
    {
     "name": "stdout",
     "output_type": "stream",
     "text": [
      "No duplicates: D-5\n",
      "No duplicates: D-6\n",
      "starting selection on M-6\n",
      "No duplicates: M-6\n",
      "No duplicates: M-6\n",
      "No duplicates: D-13\n",
      "No duplicates: M-12a\n",
      "No duplicates: M-12b\n",
      "No duplicates: M-12c\n",
      "No duplicates: D-13\n",
      "starting selection on M-13a\n",
      "No duplicates: M-13a\n",
      "No duplicates: M-13a\n",
      "No duplicates: M-13c\n",
      "No duplicates: M-14a\n",
      "No duplicates: M-14b\n",
      "No duplicates: D-15\n",
      "No duplicates: M-15a\n",
      "starting selection on M-15b\n",
      "No duplicates: M-15b\n",
      "No duplicates: M-15b\n",
      "No duplicates: M-15c\n",
      "No duplicates: M-16a\n",
      "No duplicates: M-16b\n",
      "starting selection on M-17a\n",
      "No duplicates: M-17a\n",
      "No duplicates: M-17a\n",
      "No duplicates: M-17b\n",
      "No duplicates: M-17c\n",
      "No duplicates: M-17d\n",
      "No duplicates: M-18a\n",
      "No duplicates: M-18b\n",
      "No duplicates: M-19a\n",
      "starting selection on M-19b\n",
      "No duplicates: M-19b\n",
      "No duplicates: M-19b\n",
      "No duplicates: M-20a\n",
      "No duplicates: M-20b\n",
      "No duplicates: M-21a\n",
      "No duplicates: M-21b\n",
      "No duplicates: M-22\n",
      "No duplicates: M-23\n",
      "No duplicates: M-24\n",
      "No duplicates: M-25a\n",
      "No duplicates: M-25b\n",
      "No duplicates: M-26a\n",
      "No duplicates: M-26b\n",
      "No duplicates: M-27\n",
      "No duplicates: M-28\n",
      "No duplicates: M-29\n",
      "No duplicates: M-30\n",
      "No duplicates: M-32\n",
      "No duplicates: M-34\n",
      "No duplicates: M-35a\n",
      "No duplicates: M-35b\n",
      "No duplicates: M-36\n",
      "No duplicates: M-37\n",
      "No duplicates: M-38\n",
      "No duplicates: M-39a\n",
      "No duplicates: M-39b\n",
      "No duplicates: M-42a\n",
      "No duplicates: M-42b\n",
      "No duplicates: M-43a\n",
      "No duplicates: M-43b\n",
      "No duplicates: M-45\n",
      "No duplicates: M-46\n",
      "No duplicates: M-47\n",
      "No duplicates: M-48\n",
      "No duplicates: M-49\n",
      "No duplicates: M-50a\n",
      "starting selection on M-50b\n",
      "No duplicates: M-50b\n",
      "No duplicates: M-50b\n",
      "No duplicates: M-53\n",
      "No duplicates: M-54\n",
      "No duplicates: M-55\n",
      "No duplicates: M-56\n",
      "No duplicates: M-57\n",
      "No duplicates: M-59\n",
      "No duplicates: M-61\n",
      "No duplicates: M-62a\n",
      "starting selection on M-62b\n",
      "No duplicates: M-62b\n",
      "No duplicates: M-62b\n",
      "No duplicates: M-63\n",
      "No duplicates: M-64\n",
      "No duplicates: M-65a\n",
      "No duplicates: M-65b\n",
      "No duplicates: M-66\n",
      "No duplicates: M-67\n",
      "No duplicates: M-68\n",
      "No duplicates: M-71\n",
      "No duplicates: M-73\n",
      "No duplicates: M-74\n",
      "starting selection on M-79\n",
      "No duplicates: M-79\n",
      "No duplicates: M-79\n",
      "No duplicates: D-81a\n",
      "No duplicates: M-81b\n",
      "starting selection on M-82a\n",
      "No duplicates: M-82a\n",
      "No duplicates: M-82a\n",
      "No duplicates: M-82b\n",
      "No duplicates: M-83\n",
      "starting selection on M-84\n",
      "Duplicate annotations: M-84\n",
      "No duplicates: M-84\n",
      "No duplicates: D-85\n",
      "No duplicates: M-85b\n",
      "starting selection on M-85c\n",
      "No duplicates: M-85c\n",
      "No duplicates: M-85c\n",
      "No duplicates: M-87\n",
      "No duplicates: D-90\n",
      "starting selection on M-91\n",
      "No duplicates: M-91\n",
      "Duplicate annotations: M-91\n",
      "starting selection on M-92\n",
      "Duplicate annotations: M-92\n",
      "No duplicates: M-92\n",
      "No duplicates: D-95\n",
      "starting selection on M-97\n",
      "Duplicate annotations: M-97\n",
      "No duplicates: M-97\n",
      "No duplicates: M-98a\n",
      "No duplicates: M-98b\n",
      "No duplicates: M-99a\n",
      "No duplicates: M-99b\n",
      "No duplicates: M-100\n",
      "No duplicates: D-101\n",
      "No duplicates: M-101a\n",
      "No duplicates: M-101b\n",
      "No duplicates: M-102\n",
      "No duplicates: M-103a\n",
      "No duplicates: M-103b\n",
      "No duplicates: M-104\n",
      "No duplicates: M-105a\n",
      "No duplicates: M-105b\n",
      "No duplicates: M-106\n",
      "No duplicates: M-108\n",
      "No duplicates: M-109a\n",
      "starting selection on M-109b\n",
      "No duplicates: M-109b\n",
      "No duplicates: M-109b\n",
      "No duplicates: M-110\n",
      "starting selection on D-111\n",
      "No duplicates: D-111\n",
      "No duplicates: D-111\n",
      "No duplicates: M-111b\n",
      "No duplicates: M-112\n",
      "No duplicates: M-113\n",
      "No duplicates: M-114\n",
      "No duplicates: M-117a\n",
      "No duplicates: M-117b\n",
      "No duplicates: M-118a\n",
      "No duplicates: M-118b\n",
      "No duplicates: M-119a\n",
      "No duplicates: M-119b\n",
      "No duplicates: M-120a\n",
      "No duplicates: M-120b\n",
      "No duplicates: M-121a\n",
      "No duplicates: M-121b\n",
      "No duplicates: M-122a\n",
      "No duplicates: M-122b\n",
      "No duplicates: M-123\n",
      "No duplicates: M-124\n",
      "No duplicates: M-125a\n",
      "No duplicates: M-125b\n",
      "No duplicates: M-126\n",
      "No duplicates: M-127\n",
      "No duplicates: M-127a\n",
      "No duplicates: M-127b\n",
      "No duplicates: M-128a\n",
      "No duplicates: M-128b\n",
      "No duplicates: M-129\n",
      "starting selection on M-130\n",
      "No duplicates: M-130\n",
      "No duplicates: M-130\n",
      "No duplicates: M-131a\n",
      "No duplicates: M-131b\n",
      "starting selection on M-132a\n",
      "No duplicates: M-132a\n",
      "No duplicates: M-132a\n",
      "No duplicates: M-132b\n",
      "No duplicates: M-133\n",
      "No duplicates: M-134\n",
      "No duplicates: M-135\n",
      "No duplicates: M-136\n",
      "No duplicates: M-137\n",
      "No duplicates: M-138\n",
      "No duplicates: M-140\n",
      "No duplicates: M-141\n",
      "No duplicates: M-142\n",
      "No duplicates: M-143a\n",
      "No duplicates: M-143b\n",
      "No duplicates: M-144a\n",
      "No duplicates: M-144b\n",
      "No duplicates: M-145\n",
      "No duplicates: M-146a\n",
      "No duplicates: M-146b\n",
      "starting selection on M-147a\n",
      "No duplicates: M-147a\n",
      "No duplicates: M-147a\n",
      "No duplicates: M-147b\n",
      "No duplicates: M-147c\n",
      "No duplicates: M-148\n",
      "No duplicates: M-149a\n",
      "No duplicates: M-149b\n",
      "No duplicates: M-150\n",
      "starting selection on M-151\n",
      "No duplicates: M-151\n",
      "No duplicates: M-151\n",
      "No duplicates: M-152a\n",
      "No duplicates: M-152b\n",
      "starting selection on M-153\n",
      "No duplicates: M-153\n",
      "No duplicates: M-153\n",
      "No duplicates: M-154a\n",
      "No duplicates: M-154b\n",
      "No duplicates: M-155\n",
      "No duplicates: D-156\n",
      "No duplicates: M-156m\n",
      "No duplicates: M-157\n",
      "starting selection on M-158a\n",
      "No duplicates: M-158a\n",
      "No duplicates: M-158a\n",
      "No duplicates: M-158b\n",
      "No duplicates: M-158c\n",
      "No duplicates: D-159\n",
      "No duplicates: M-159b\n",
      "No duplicates: M-159c\n",
      "No duplicates: M-160\n",
      "No duplicates: M-161\n",
      "No duplicates: D-164\n",
      "No duplicates: M-164b\n",
      "starting selection on M-165a\n",
      "No duplicates: M-165a\n",
      "No duplicates: M-165a\n",
      "No duplicates: M-165b\n",
      "No duplicates: M-165c\n",
      "No duplicates: M-166\n",
      "No duplicates: M-167a\n",
      "No duplicates: M-167b\n",
      "No duplicates: M-168\n",
      "No duplicates: M-169a\n",
      "No duplicates: M-169b\n",
      "No duplicates: M-170\n",
      "No duplicates: M-171\n",
      "No duplicates: M-172a\n",
      "No duplicates: M-172b\n",
      "No duplicates: M-173a\n",
      "No duplicates: M-173b\n",
      "No duplicates: M-174a\n",
      "No duplicates: M-174b\n",
      "No duplicates: M-175\n",
      "No duplicates: M-176a\n",
      "No duplicates: M-176b\n",
      "No duplicates: M-178\n",
      "No duplicates: M-179a\n",
      "No duplicates: M-179b\n",
      "No duplicates: M-180a\n",
      "No duplicates: M-180b\n",
      "No duplicates: M-181a\n",
      "No duplicates: M-181b\n",
      "No duplicates: M-181c\n",
      "No duplicates: M-182\n",
      "No duplicates: M-183a\n",
      "No duplicates: M-183b\n",
      "No duplicates: M-184\n",
      "starting selection on D-186\n",
      "No duplicates: D-186\n",
      "No duplicates: D-186\n",
      "No duplicates: M-187\n",
      "No duplicates: M-189\n",
      "No duplicates: M-195\n",
      "No duplicates: M-200\n",
      "No duplicates: D-204\n",
      "No duplicates: D-206\n",
      "No duplicates: M-207\n",
      "No duplicates: M-208a\n",
      "No duplicates: M-208b\n",
      "No duplicates: D-209\n",
      "No duplicates: M-209\n",
      "No duplicates: M-211a\n",
      "No duplicates: M-211b\n",
      "No duplicates: M-212\n",
      "starting selection on M-213\n",
      "No duplicates: M-213\n",
      "No duplicates: M-213\n",
      "starting selection on D-218\n",
      "No duplicates: D-218\n",
      "No duplicates: D-218\n",
      "starting selection on D-221\n",
      "No duplicates: D-221\n",
      "No duplicates: D-221\n",
      "No duplicates: M-241\n",
      "No duplicates: M-243\n",
      "No duplicates: M-244\n",
      "No duplicates: M-249\n",
      "No duplicates: M-252\n",
      "No duplicates: M-257\n",
      "starting selection on M-259\n",
      "No duplicates: M-259\n",
      "No duplicates: M-259\n",
      "No duplicates: M-260\n",
      "No duplicates: M-262\n",
      "No duplicates: D-263\n",
      "No duplicates: M-264\n",
      "No duplicates: M-271\n",
      "No duplicates: M-275\n",
      "starting selection on M-277\n",
      "No duplicates: M-277\n",
      "No duplicates: M-277\n",
      "No duplicates: M-279\n",
      "No duplicates: M-281\n",
      "No duplicates: M-289\n",
      "No duplicates: M-292\n",
      "starting selection on M-296\n",
      "No duplicates: M-296\n",
      "No duplicates: M-296\n",
      "starting selection on M-301\n",
      "No duplicates: M-301\n",
      "No duplicates: M-301\n",
      "starting selection on M-302\n",
      "No duplicates: M-302\n",
      "No duplicates: M-302\n",
      "starting selection on M-303\n",
      "No duplicates: M-303\n",
      "No duplicates: M-303\n",
      "starting selection on M-311\n",
      "No duplicates: M-311\n",
      "No duplicates: M-311\n",
      "starting selection on M-313\n",
      "No duplicates: M-313\n",
      "No duplicates: M-313\n",
      "starting selection on M-314\n",
      "No duplicates: M-314\n",
      "No duplicates: M-314\n",
      "No duplicates: D-319\n",
      "starting selection on D-320\n",
      "Duplicate annotations: D-320\n",
      "Duplicate annotations: D-320\n",
      "No duplicates: M-325\n",
      "No duplicates: M-326\n",
      "No duplicates: M-327\n",
      "No duplicates: M-328\n",
      "No duplicates: D-329\n",
      "starting selection on M-335\n",
      "No duplicates: M-335\n",
      "No duplicates: M-335\n",
      "No duplicates: M-339\n",
      "No duplicates: M-342\n",
      "No duplicates: M-346\n",
      "No duplicates: M-352\n",
      "No duplicates: D-354\n",
      "No duplicates: M-357\n",
      "No duplicates: D-373\n",
      "No duplicates: M-381\n",
      "No duplicates: M-382\n",
      "No duplicates: M-383\n",
      "No duplicates: M-384\n",
      "No duplicates: M-385\n",
      "No duplicates: M-386\n",
      "No duplicates: M-387\n",
      "No duplicates: M-389\n",
      "starting selection on M-390\n",
      "Duplicate annotations: M-390\n",
      "Duplicate annotations: M-390\n",
      "No duplicates: M-391\n",
      "starting selection on M-392\n",
      "Duplicate annotations: M-392\n",
      "Duplicate annotations: M-392\n",
      "No duplicates: M-393\n",
      "No duplicates: M-394\n",
      "No duplicates: M-395\n",
      "No duplicates: M-396\n",
      "No duplicates: M-397\n",
      "No duplicates: D-398\n",
      "No duplicates: M-398\n",
      "No duplicates: M-399\n",
      "No duplicates: M-400\n",
      "starting selection on M-401\n",
      "No duplicates: M-401\n",
      "No duplicates: M-401\n",
      "No duplicates: M-402\n",
      "No duplicates: M-403\n",
      "starting selection on M-404\n",
      "No duplicates: M-404\n",
      "No duplicates: M-404\n",
      "No duplicates: M-405\n",
      "starting selection on M-406\n",
      "No duplicates: M-406\n",
      "No duplicates: M-406\n",
      "No duplicates: M-423\n",
      "No duplicates: D-424\n",
      "No duplicates: M-424\n",
      "No duplicates: D-434\n",
      "No duplicates: D-442\n",
      "No duplicates: D-443\n",
      "No duplicates: D-453\n",
      "No duplicates: D-455\n",
      "No duplicates: M-458\n",
      "No duplicates: M-463\n",
      "No duplicates: D-464\n",
      "starting selection on D-466\n",
      "No duplicates: D-466\n",
      "No duplicates: D-466\n",
      "starting selection on D-468\n",
      "No duplicates: D-468\n",
      "No duplicates: D-468\n",
      "No duplicates: M-473\n",
      "starting selection on D-474\n",
      "No duplicates: D-474\n",
      "No duplicates: D-474\n",
      "No duplicates: M-487\n",
      "No duplicates: M-489\n",
      "No duplicates: M-495\n",
      "No duplicates: M-503\n",
      "No duplicates: D-522\n",
      "No duplicates: D-524\n",
      "starting selection on D-528\n",
      "Duplicate annotations: D-528\n",
      "No duplicates: D-528\n",
      "No duplicates: M-530\n",
      "starting selection on D-535\n",
      "No duplicates: D-535\n",
      "No duplicates: D-535\n",
      "No duplicates: D-4937\n",
      "No duplicates: D-537\n",
      "No duplicates: M-540\n",
      "No duplicates: D-546\n",
      "starting selection on D-549\n",
      "Duplicate annotations: D-549\n",
      "No duplicates: D-549\n",
      "No duplicates: M-566\n",
      "No duplicates: D-570\n",
      "No duplicates: D-571\n",
      "No duplicates: D-574\n",
      "No duplicates: D-577\n",
      "No duplicates: D-580\n",
      "No duplicates: D-584\n",
      "No duplicates: D-585\n",
      "starting selection on D-591\n",
      "No duplicates: D-591\n",
      "No duplicates: D-591\n",
      "No duplicates: D-594\n",
      "starting selection on D-597\n",
      "No duplicates: D-597\n",
      "No duplicates: D-597\n",
      "Duplicate annotations: D-598\n",
      "No duplicates: M-603\n",
      "starting selection on D-607\n",
      "No duplicates: D-607\n",
      "No duplicates: D-607\n",
      "No duplicates: D-608\n",
      "No duplicates: M-613\n",
      "No duplicates: M-614\n",
      "No duplicates: M-615\n",
      "No duplicates: M-616\n",
      "No duplicates: D-617\n",
      "No duplicates: D-618\n",
      "No duplicates: D-619\n",
      "No duplicates: M-621\n",
      "No duplicates: M-622\n",
      "No duplicates: D-624\n",
      "No duplicates: M-624\n",
      "No duplicates: D-626\n",
      "No duplicates: M-626\n",
      "No duplicates: M-627\n",
      "No duplicates: D-631\n",
      "No duplicates: M-632\n",
      "No duplicates: M-633\n",
      "No duplicates: M-636\n",
      "No duplicates: M-638\n",
      "No duplicates: M-639\n",
      "No duplicates: M-640\n",
      "No duplicates: M-641\n",
      "No duplicates: M-644\n",
      "starting selection on D-645\n",
      "Duplicate annotations: D-645\n",
      "No duplicates: D-645\n",
      "No duplicates: M-645\n",
      "No duplicates: M-646\n",
      "No duplicates: M-649\n",
      "No duplicates: M-650\n",
      "No duplicates: M-655\n",
      "No duplicates: D-656\n",
      "No duplicates: D-657\n",
      "No duplicates: M-658\n",
      "No duplicates: M-660\n",
      "No duplicates: M-661\n",
      "No duplicates: M-663\n",
      "No duplicates: M-668\n",
      "No duplicates: M-669\n",
      "starting selection on D-670\n",
      "No duplicates: D-670\n",
      "Duplicate annotations: D-670\n",
      "No duplicates: M-670\n",
      "No duplicates: D-673\n",
      "No duplicates: M-673\n",
      "No duplicates: M-674\n",
      "No duplicates: M-675\n",
      "No duplicates: M-676\n",
      "No duplicates: M-677\n",
      "No duplicates: D-678\n",
      "No duplicates: M-678\n",
      "No duplicates: D-682\n",
      "No duplicates: D-684\n",
      "starting selection on D-686\n",
      "Duplicate annotations: D-686\n",
      "No duplicates: D-686\n",
      "No duplicates: D-687\n",
      "No duplicates: D-688\n",
      "No duplicates: D-689\n",
      "No duplicates: D-690\n",
      "No duplicates: D-691\n",
      "No duplicates: D-693\n",
      "No duplicates: D-694\n",
      "starting selection on D-700\n",
      "Duplicate annotations: D-700\n",
      "No duplicates: D-700\n",
      "No duplicates: D-704\n",
      "No duplicates: D-708\n",
      "starting selection on D-710\n",
      "No duplicates: D-710\n",
      "Duplicate annotations: D-710\n",
      "No duplicates: D-711\n",
      "No duplicates: D-725\n",
      "No duplicates: D-729\n",
      "No duplicates: D-735\n",
      "starting selection on D-736\n",
      "No duplicates: D-736\n",
      "No duplicates: D-736\n",
      "No duplicates: D-740\n",
      "No duplicates: D-742\n",
      "No duplicates: D-743\n",
      "starting selection on D-744\n",
      "No duplicates: D-744\n",
      "No duplicates: D-744\n",
      "No duplicates: D-745\n",
      "No duplicates: D-746\n",
      "No duplicates: D-750\n",
      "No duplicates: D-753\n",
      "No duplicates: D-754\n",
      "No duplicates: D-755\n",
      "No duplicates: D-757\n",
      "starting selection on D-758\n",
      "Duplicate annotations: D-758\n",
      "No duplicates: D-758\n",
      "No duplicates: D-759\n",
      "No duplicates: M-760\n",
      "No duplicates: D-762\n",
      "No duplicates: D-763\n",
      "No duplicates: D-768\n",
      "starting selection on D-772\n",
      "Duplicate annotations: D-772\n",
      "Duplicate annotations: D-772\n",
      "No duplicates: D-775\n",
      "No duplicates: D-776\n",
      "No duplicates: D-778\n",
      "No duplicates: D-779\n",
      "starting selection on D-780\n",
      "Duplicate annotations: D-780\n",
      "No duplicates: D-780\n",
      "No duplicates: D-782\n",
      "No duplicates: D-783\n",
      "No duplicates: D-784\n",
      "No duplicates: D-788\n",
      "No duplicates: D-790\n",
      "No duplicates: D-791\n",
      "No duplicates: D-795\n",
      "No duplicates: D-796\n",
      "starting selection on D-797\n",
      "No duplicates: D-797\n",
      "No duplicates: D-797\n",
      "No duplicates: D-803\n",
      "No duplicates: D-807\n",
      "No duplicates: D-808\n",
      "No duplicates: D-811\n",
      "No duplicates: D-812\n",
      "No duplicates: D-815\n",
      "No duplicates: D-816\n",
      "No duplicates: D-820\n",
      "No duplicates: D-821\n",
      "No duplicates: D-822\n",
      "No duplicates: D-823\n",
      "No duplicates: D-824\n",
      "No duplicates: D-826\n",
      "No duplicates: D-829\n",
      "No duplicates: D-831\n",
      "starting selection on D-832\n",
      "Duplicate annotations: D-832\n",
      "No duplicates: D-832\n",
      "No duplicates: D-833\n",
      "starting selection on D-834\n",
      "No duplicates: D-834\n",
      "No duplicates: D-834\n",
      "No duplicates: D-835\n",
      "No duplicates: D-836\n",
      "starting selection on D-837\n",
      "Duplicate annotations: D-837\n",
      "No duplicates: D-837\n",
      "No duplicates: D-841\n",
      "No duplicates: D-843\n",
      "No duplicates: D-848\n",
      "No duplicates: D-850\n",
      "No duplicates: D-851\n",
      "No duplicates: D-853\n",
      "No duplicates: D-856\n"
     ]
    },
    {
     "name": "stdout",
     "output_type": "stream",
     "text": [
      "No duplicates: D-859\n",
      "No duplicates: D-860\n",
      "No duplicates: D-864\n",
      "No duplicates: D-867\n",
      "No duplicates: D-868\n",
      "No duplicates: D-869\n",
      "No duplicates: D-872\n",
      "No duplicates: D-875\n",
      "No duplicates: D-925\n",
      "No duplicates: D-929\n",
      "No duplicates: D-931\n",
      "No duplicates: D-933\n",
      "No duplicates: D-935\n",
      "No duplicates: D-938\n",
      "No duplicates: D-945\n",
      "No duplicates: D-953\n",
      "No duplicates: D-956\n",
      "starting selection on D-958\n",
      "No duplicates: D-958\n",
      "No duplicates: D-958\n",
      "No duplicates: D-980\n",
      "No duplicates: D-988\n",
      "No duplicates: M-995\n",
      "No duplicates: M-997\n",
      "No duplicates: D-998\n",
      "No duplicates: M-998\n",
      "No duplicates: D-999\n",
      "No duplicates: D-1000\n",
      "starting selection on M-1000\n",
      "No duplicates: M-1000\n",
      "No duplicates: M-1000\n",
      "starting selection on M-1001\n",
      "No duplicates: M-1001\n",
      "Duplicate annotations: M-1001\n",
      "starting selection on M-1002\n",
      "No duplicates: M-1002\n",
      "No duplicates: M-1002\n",
      "starting selection on M-1003\n",
      "Duplicate annotations: M-1003\n",
      "No duplicates: M-1003\n",
      "starting selection on M-1004\n",
      "No duplicates: M-1004\n",
      "No duplicates: M-1004\n",
      "starting selection on M-1005\n",
      "No duplicates: M-1005\n",
      "No duplicates: M-1005\n",
      "No duplicates: M-1006\n",
      "No duplicates: M-1007\n",
      "No duplicates: M-1008\n",
      "No duplicates: M-1009\n",
      "No duplicates: M-1010\n",
      "No duplicates: M-1011\n",
      "No duplicates: M-1012\n",
      "No duplicates: M-1014\n",
      "No duplicates: M-1015\n",
      "No duplicates: M-1016\n",
      "No duplicates: M-1017\n",
      "No duplicates: M-1019\n",
      "No duplicates: M-1020\n",
      "No duplicates: M-1021\n",
      "No duplicates: M-1023\n",
      "No duplicates: D-1027\n",
      "No duplicates: D-1029\n",
      "No duplicates: D-1036\n",
      "No duplicates: D-1040\n",
      "starting selection on D-1044\n",
      "No duplicates: D-1044\n",
      "No duplicates: D-1044\n",
      "No duplicates: D-1045\n",
      "No duplicates: D-1052\n",
      "No duplicates: D-1054\n",
      "No duplicates: D-1071\n",
      "No duplicates: D-1074\n",
      "No duplicates: D-1090\n",
      "No duplicates: D-1091\n",
      "No duplicates: D-1092\n",
      "No duplicates: M-1103\n",
      "No duplicates: M-1104\n",
      "No duplicates: M-1110\n",
      "No duplicates: D-1111\n",
      "No duplicates: D-1112\n",
      "No duplicates: D-1115\n",
      "No duplicates: D-1117\n",
      "No duplicates: D-1121\n",
      "starting selection on D-1126\n",
      "No duplicates: D-1126\n",
      "No duplicates: D-1126\n",
      "No duplicates: D-1132\n",
      "starting selection on D-1138\n",
      "No duplicates: D-1138\n",
      "No duplicates: D-1138\n",
      "No duplicates: D-1141\n",
      "No duplicates: D-1142\n",
      "No duplicates: D-1143\n",
      "No duplicates: D-1159\n",
      "No duplicates: D-1160\n",
      "No duplicates: D-1167\n",
      "No duplicates: D-1170\n",
      "No duplicates: D-1173\n",
      "No duplicates: D-1194\n",
      "No duplicates: D-1205\n",
      "No duplicates: D-1220\n",
      "No duplicates: D-1227\n",
      "No duplicates: D-1233\n",
      "No duplicates: D-1249\n",
      "No duplicates: D-1251\n",
      "No duplicates: D-1253\n",
      "No duplicates: D-1255\n",
      "No duplicates: D-1259\n",
      "No duplicates: D-1263\n",
      "No duplicates: D-1268\n",
      "No duplicates: D-1278\n",
      "No duplicates: D-1281\n",
      "starting selection on D-1288\n",
      "No duplicates: D-1288\n",
      "Duplicate annotations: D-1288\n",
      "No duplicates: D-1305\n",
      "No duplicates: D-1308\n",
      "No duplicates: D-1315\n",
      "No duplicates: D-1325\n",
      "No duplicates: D-1326\n",
      "No duplicates: D-1333\n",
      "starting selection on D-1337\n",
      "Duplicate annotations: D-1337\n",
      "Duplicate annotations: D-1337\n",
      "No duplicates: D-1340\n",
      "No duplicates: D-1348\n",
      "No duplicates: D-1349\n",
      "No duplicates: D-1371\n",
      "No duplicates: D-1372\n",
      "starting selection on D-1376\n",
      "No duplicates: D-1376\n",
      "No duplicates: D-1376\n",
      "No duplicates: D-1390\n",
      "No duplicates: D-1398\n",
      "No duplicates: D-1412\n",
      "starting selection on D-1423\n",
      "No duplicates: D-1423\n",
      "No duplicates: D-1423\n",
      "No duplicates: D-1434\n",
      "No duplicates: D-1442\n",
      "No duplicates: D-1448\n",
      "No duplicates: D-1450\n",
      "No duplicates: D-1452\n",
      "No duplicates: D-1461\n",
      "No duplicates: D-1466\n",
      "No duplicates: D-1467\n",
      "No duplicates: D-1468\n",
      "No duplicates: D-1474\n",
      "No duplicates: D-1485\n",
      "starting selection on D-1495\n",
      "No duplicates: D-1495\n",
      "No duplicates: D-1495\n",
      "No duplicates: D-1497\n",
      "No duplicates: D-1498\n",
      "No duplicates: D-1499\n",
      "No duplicates: D-1500\n",
      "No duplicates: D-1505\n",
      "No duplicates: D-1506\n",
      "No duplicates: D-1508\n",
      "No duplicates: D-1527\n",
      "No duplicates: D-1543\n",
      "No duplicates: D-1546\n",
      "No duplicates: D-1552\n",
      "No duplicates: D-1554\n",
      "No duplicates: D-1560\n",
      "starting selection on D-1576\n",
      "No duplicates: D-1576\n",
      "No duplicates: D-1576\n",
      "No duplicates: D-1578\n",
      "No duplicates: D-1600\n",
      "No duplicates: D-1601\n",
      "No duplicates: D-1617\n",
      "No duplicates: D-1626\n",
      "starting selection on D-1636\n",
      "No duplicates: D-1636\n",
      "Duplicate annotations: D-1636\n",
      "starting selection on D-1643\n",
      "Duplicate annotations: D-1643\n",
      "No duplicates: D-1643\n",
      "No duplicates: D-1650\n",
      "starting selection on D-1651\n",
      "Duplicate annotations: D-1651\n",
      "No duplicates: D-1651\n",
      "No duplicates: D-1652\n",
      "No duplicates: D-1655\n",
      "No duplicates: D-1668\n",
      "No duplicates: D-1701\n",
      "No duplicates: D-1702\n",
      "No duplicates: D-1715\n",
      "No duplicates: D-1728\n",
      "No duplicates: D-1729\n",
      "No duplicates: D-1730\n",
      "starting selection on D-1731\n",
      "No duplicates: D-1731\n",
      "No duplicates: D-1731\n",
      "No duplicates: D-1736\n",
      "No duplicates: D-1743\n",
      "No duplicates: D-1745\n",
      "No duplicates: D-1763\n",
      "No duplicates: D-1765\n",
      "No duplicates: D-1766\n",
      "No duplicates: D-1770\n",
      "No duplicates: D-1782\n",
      "No duplicates: D-1787\n",
      "No duplicates: D-1805\n",
      "starting selection on D-1806\n",
      "No duplicates: D-1806\n",
      "No duplicates: D-1806\n",
      "No duplicates: D-1812\n",
      "starting selection on D-1813\n",
      "Duplicate annotations: D-1813\n",
      "No duplicates: D-1813\n",
      "No duplicates: D-1821\n",
      "No duplicates: D-1825\n",
      "starting selection on D-1826\n",
      "No duplicates: D-1826\n",
      "No duplicates: D-1826\n",
      "No duplicates: D-1842\n",
      "No duplicates: D-1872\n",
      "starting selection on D-1877\n",
      "Duplicate annotations: D-1877\n",
      "Duplicate annotations: D-1877\n",
      "No duplicates: D-1879\n",
      "starting selection on D-1891\n",
      "Duplicate annotations: D-1891\n",
      "No duplicates: D-1891\n",
      "No duplicates: D-1906\n",
      "No duplicates: D-1907\n",
      "No duplicates: D-1913\n",
      "No duplicates: D-1923\n",
      "No duplicates: D-1948\n",
      "No duplicates: D-1949\n",
      "No duplicates: D-1963\n",
      "No duplicates: D-1964\n",
      "No duplicates: D-1972\n",
      "No duplicates: D-1977\n",
      "starting selection on D-1986\n",
      "No duplicates: D-1986\n",
      "No duplicates: D-1986\n",
      "No duplicates: D-1987\n",
      "No duplicates: D-1989\n",
      "starting selection on D-1991\n",
      "No duplicates: D-1991\n",
      "No duplicates: D-1991\n",
      "No duplicates: D-2033\n",
      "No duplicates: D-2036\n",
      "No duplicates: D-2046\n",
      "starting selection on D-2050\n",
      "No duplicates: D-2050\n",
      "No duplicates: D-2050\n",
      "starting selection on D-2051\n",
      "No duplicates: D-2051\n",
      "Duplicate annotations: D-2051\n",
      "No duplicates: D-2057\n",
      "No duplicates: D-2065\n",
      "No duplicates: D-2068\n",
      "No duplicates: D-2071\n",
      "No duplicates: D-2077\n",
      "No duplicates: D-2078\n",
      "No duplicates: D-2088\n",
      "No duplicates: D-2098\n",
      "No duplicates: D-2106\n",
      "No duplicates: D-2113\n",
      "No duplicates: D-2121\n",
      "starting selection on D-2129\n",
      "Duplicate annotations: D-2129\n",
      "No duplicates: D-2129\n",
      "No duplicates: D-2131\n",
      "No duplicates: D-2137\n",
      "No duplicates: D-2146\n",
      "No duplicates: D-2149\n",
      "No duplicates: D-2152\n",
      "No duplicates: D-2155\n",
      "No duplicates: D-2157\n",
      "No duplicates: D-2159\n",
      "starting selection on D-2170\n",
      "No duplicates: D-2170\n",
      "No duplicates: D-2170\n",
      "No duplicates: D-2172\n",
      "No duplicates: D-2175\n",
      "starting selection on D-2176\n",
      "Duplicate annotations: D-2176\n",
      "No duplicates: D-2176\n",
      "No duplicates: D-2177\n",
      "starting selection on D-2179\n",
      "No duplicates: D-2179\n",
      "No duplicates: D-2179\n",
      "starting selection on D-2180\n",
      "No duplicates: D-2180\n",
      "No duplicates: D-2180\n",
      "starting selection on D-2182\n",
      "No duplicates: D-2182\n",
      "No duplicates: D-2182\n",
      "starting selection on D-2188\n",
      "No duplicates: D-2188\n",
      "Duplicate annotations: D-2188\n",
      "No duplicates: D-2194\n",
      "starting selection on D-2202\n",
      "No duplicates: D-2202\n",
      "No duplicates: D-2202\n",
      "No duplicates: D-2204\n",
      "starting selection on D-2205\n",
      "Duplicate annotations: D-2205\n",
      "Duplicate annotations: D-2205\n",
      "No duplicates: D-2219\n",
      "starting selection on D-2223\n",
      "Duplicate annotations: D-2223\n",
      "Duplicate annotations: D-2223\n",
      "No duplicates: D-2299\n",
      "No duplicates: D-2301\n",
      "No duplicates: D-2306\n",
      "starting selection on D-2307\n",
      "No duplicates: D-2307\n",
      "No duplicates: D-2307\n",
      "starting selection on D-2308\n",
      "No duplicates: D-2308\n",
      "No duplicates: D-2308\n",
      "No duplicates: D-2309\n",
      "No duplicates: D-2310\n",
      "No duplicates: D-2320\n",
      "No duplicates: D-2321\n",
      "No duplicates: D-2322\n",
      "No duplicates: D-2325\n",
      "No duplicates: D-2342\n",
      "starting selection on D-2346\n",
      "Duplicate annotations: D-2346\n",
      "No duplicates: D-2346\n",
      "No duplicates: D-2351\n",
      "No duplicates: D-2353\n",
      "No duplicates: D-2354\n",
      "starting selection on D-2360\n"
     ]
    },
    {
     "ename": "KeyError",
     "evalue": "12",
     "output_type": "error",
     "traceback": [
      "\u001b[1;31m---------------------------------------------------------------------------\u001b[0m",
      "\u001b[1;31mKeyError\u001b[0m                                  Traceback (most recent call last)",
      "\u001b[1;32m~\\AppData\\Local\\Temp/ipykernel_6192/3504208850.py\u001b[0m in \u001b[0;36m<module>\u001b[1;34m\u001b[0m\n\u001b[0;32m     36\u001b[0m         \u001b[1;32melse\u001b[0m\u001b[1;33m:\u001b[0m         \u001b[1;31m#### process tweets with more than 3 annos (3 annos will be selected, added to set of tweets with 3 annos)\u001b[0m\u001b[1;33m\u001b[0m\u001b[1;33m\u001b[0m\u001b[0m\n\u001b[0;32m     37\u001b[0m             \u001b[0mnewGroup\u001b[0m \u001b[1;33m=\u001b[0m \u001b[0mselectThree\u001b[0m\u001b[1;33m(\u001b[0m\u001b[0mgroup\u001b[0m\u001b[1;33m)\u001b[0m\u001b[1;33m\u001b[0m\u001b[1;33m\u001b[0m\u001b[0m\n\u001b[1;32m---> 38\u001b[1;33m             \u001b[0mcheck_annos\u001b[0m\u001b[1;33m[\u001b[0m\u001b[0mnum\u001b[0m\u001b[1;33m]\u001b[0m\u001b[1;33m.\u001b[0m\u001b[0mappend\u001b[0m\u001b[1;33m(\u001b[0m\u001b[0mprevID\u001b[0m\u001b[1;33m)\u001b[0m\u001b[1;33m\u001b[0m\u001b[1;33m\u001b[0m\u001b[0m\n\u001b[0m\u001b[0;32m     39\u001b[0m             \u001b[0mtweets3\u001b[0m\u001b[1;33m.\u001b[0m\u001b[0mappend\u001b[0m\u001b[1;33m(\u001b[0m\u001b[0mTweet\u001b[0m\u001b[1;33m(\u001b[0m\u001b[0mnewGroup\u001b[0m\u001b[1;33m)\u001b[0m\u001b[1;33m)\u001b[0m\u001b[1;33m\u001b[0m\u001b[1;33m\u001b[0m\u001b[0m\n\u001b[0;32m     40\u001b[0m             \u001b[0mtweets4orMore\u001b[0m\u001b[1;33m.\u001b[0m\u001b[0mappend\u001b[0m\u001b[1;33m(\u001b[0m\u001b[0mTweet\u001b[0m\u001b[1;33m(\u001b[0m\u001b[0mgroup\u001b[0m\u001b[1;33m)\u001b[0m\u001b[1;33m)\u001b[0m\u001b[1;33m\u001b[0m\u001b[1;33m\u001b[0m\u001b[0m\n",
      "\u001b[1;31mKeyError\u001b[0m: 12"
     ]
    }
   ],
   "source": [
    "cats = {'offSlur': [], 'offNom': [], 'offDist': [], 'offBoth': [], 'offOther': [], 'reclaimed': [], 'nonNom': [], 'nonDist': [], 'nonBoth': [], 'nonNone': []}\n",
    "ties = []\n",
    "\n",
    "check_annos = {1:[], 2:[], 3:[], 4:[], 5:[], 6:[], 7:[], 8:[],9:[],10:[],11:[],12:[]} #expand this because duplicates are still in\n",
    "tweets3 = []\n",
    "tweets2or1 = []\n",
    "tweets4orMore = []\n",
    "prevID = ''\n",
    "thisID = ''\n",
    "group = []\n",
    "print(len(data))\n",
    "for line in tqdm(data[1:]):\n",
    "    if len(line) != 8: #changed to 8 because there's 8 feautres instead of 9 \n",
    "        print(line)\n",
    "        input(\"okay? \")\n",
    "    line = fixID(line)\n",
    "    #print(line)\n",
    "    #print(prevID, thisID)\n",
    "    #print(len(group))\n",
    "    #input(\"okay? \")\n",
    "    thisID = line[2]\n",
    "    if thisID == prevID:\n",
    "        group.append(line)\n",
    "    elif prevID == '':\n",
    "        group.append(line)\n",
    "    elif thisID == 'ID':\n",
    "        pass\n",
    "    else:\n",
    "        num = len(group)\n",
    "        if num == 3:       ### process tweets with 3 annos\n",
    "            check_annos[3].append(prevID)\n",
    "            tweets3.append(Tweet(group))\n",
    "        elif num == 2 or num == 1:  ### process tweets with 1 or 2 annos (will be removed)\n",
    "            check_annos[num].append(prevID)\n",
    "            tweets2or1.append(Tweet(group))\n",
    "        else:         #### process tweets with more than 3 annos (3 annos will be selected, added to set of tweets with 3 annos)\n",
    "            newGroup = selectThree(group)\n",
    "            check_annos[num].append(prevID)\n",
    "            tweets3.append(Tweet(newGroup))\n",
    "            tweets4orMore.append(Tweet(group))\n",
    "            newGroup = []\n",
    "        group = [line]\n",
    "    prevID = thisID"
   ]
  },
  {
   "cell_type": "code",
   "execution_count": null,
   "metadata": {
    "colab": {
     "base_uri": "https://localhost:8080/",
     "height": 136
    },
    "colab_type": "code",
    "id": "YJCRthKRBwyN",
    "outputId": "dd6c0c9c-9083-480c-b3ff-709b88c021e6"
   },
   "outputs": [
    {
     "name": "stdout",
     "output_type": "stream",
     "text": [
      "1 2\n",
      "2 127\n",
      "3 1830\n",
      "4 49\n",
      "5 91\n",
      "6 65\n",
      "7 0\n"
     ]
    }
   ],
   "source": [
    "for x in check_annos.keys():\n",
    "    print(x, len(check_annos[x]))\n"
   ]
  },
  {
   "cell_type": "code",
   "execution_count": null,
   "metadata": {
    "colab": {
     "base_uri": "https://localhost:8080/",
     "height": 34
    },
    "colab_type": "code",
    "id": "hL7sBJf7UUkR",
    "outputId": "b13e2f61-a7ea-493f-fb72-ba78e876d884"
   },
   "outputs": [
    {
     "name": "stdout",
     "output_type": "stream",
     "text": [
      "2035 129 205\n"
     ]
    }
   ],
   "source": [
    "print(len(tweets3), len(tweets2or1), len(tweets4orMore))"
   ]
  },
  {
   "cell_type": "code",
   "execution_count": null,
   "metadata": {
    "colab": {},
    "colab_type": "code",
    "id": "Gxbe3m0DPjFy"
   },
   "outputs": [],
   "source": [
    "for t in tweets3:\n",
    "    t.getMajVotes()\n",
    "    t.sort()\n",
    "    cats[t.cat].append(t.id)"
   ]
  },
  {
   "cell_type": "code",
   "execution_count": null,
   "metadata": {
    "colab": {
     "base_uri": "https://localhost:8080/",
     "height": 187
    },
    "colab_type": "code",
    "id": "o3DNEcJgPspf",
    "outputId": "f9e6ff01-8baf-4bd3-e8de-410dd5d1c9c7"
   },
   "outputs": [
    {
     "name": "stdout",
     "output_type": "stream",
     "text": [
      "offSlur 626\n",
      "offNom 202\n",
      "offDist 20\n",
      "offBoth 33\n",
      "offOther 78\n",
      "reclaimed 399\n",
      "nonNom 143\n",
      "nonDist 8\n",
      "nonBoth 0\n",
      "nonNone 526\n"
     ]
    }
   ],
   "source": [
    "for c in cats.keys():\n",
    "    print(c, len(cats[c]))"
   ]
  },
  {
   "cell_type": "markdown",
   "metadata": {},
   "source": [
    "# Create Files"
   ]
  },
  {
   "cell_type": "markdown",
   "metadata": {
    "colab_type": "text",
    "id": "mx73gkbqGQqe"
   },
   "source": [
    "## Create majority vote file"
   ]
  },
  {
   "cell_type": "code",
   "execution_count": null,
   "metadata": {
    "colab": {},
    "colab_type": "code",
    "id": "u0rro-LBZTPN"
   },
   "outputs": [],
   "source": [
    "outfile = \"allAnnos_majVote_3per.csv\" ### new version, selecting Y when tied\n",
    "fields = ['ID','DataSet','Text','Off','Slur','Nom','Dist','Cat']\n",
    "rows = []\n",
    "\n",
    "for t in tweets3:\n",
    "    num = len(t.annos)\n",
    "    thisRow = [t.id, t.dataset, t.text, t.offMaj, t.slurMaj, t.adjNomMaj, t.distMaj, t.cat]\n",
    "\n",
    "    for x in thisRow[3:7]:\n",
    "        if x != 'Y' and x != 'N':\n",
    "            print(x)\n",
    "            print(thisRow)\n",
    "            input(\"okay?\")\n",
    "        else: \n",
    "            pass\n",
    "            \n",
    "    rows.append(thisRow)"
   ]
  },
  {
   "cell_type": "code",
   "execution_count": null,
   "metadata": {
    "colab": {
     "base_uri": "https://localhost:8080/",
     "height": 71
    },
    "colab_type": "code",
    "id": "bqK-nlUAZ-vo",
    "outputId": "144716ec-abd9-47ba-9dfe-b612c8015276"
   },
   "outputs": [
    {
     "name": "stdout",
     "output_type": "stream",
     "text": [
      "2035\n",
      "[['D-5', 'D', 'You’re black? You don’t sound like you’re black', 'Y', 'N', 'N', 'N', 'offOther'], ['D-6', 'D', 'you’re pretty for a black girl', 'Y', 'N', 'N', 'Y', 'offDist'], ['M-6', 'M', 'eating like A Poor is chic & hilarious bc we are Not Poor & smugly show it', 'Y', 'N', 'Y', 'Y', 'offBoth'], ['C-11', 'C', \"I don't think of you as a Mexican\", 'Y', 'N', 'N', 'Y', 'offDist'], ['D-13', 'D', '\" bad bitches is the only thing that i like \"', 'N', 'Y', 'Y', 'N', 'reclaimed']]\n"
     ]
    }
   ],
   "source": [
    "print(len(rows))\n",
    "print(rows[:5])"
   ]
  },
  {
   "cell_type": "code",
   "execution_count": null,
   "metadata": {
    "colab": {},
    "colab_type": "code",
    "id": "LR8p5R2_aGmH"
   },
   "outputs": [],
   "source": [
    "### create file: majority vote annotations for *all* tweets\n",
    "with open(outfile, 'w') as csvfile:\n",
    "    csvwriter = csv.writer(csvfile)\n",
    "    csvwriter.writerow(fields)\n",
    "    csvwriter.writerows(rows)"
   ]
  },
  {
   "cell_type": "markdown",
   "metadata": {
    "colab_type": "text",
    "id": "fXqdLAM9GG9_"
   },
   "source": [
    "## Create agreement files"
   ]
  },
  {
   "cell_type": "code",
   "execution_count": null,
   "metadata": {
    "colab": {
     "base_uri": "https://localhost:8080/",
     "height": 527
    },
    "colab_type": "code",
    "id": "G-8aLHQi2OSE",
    "outputId": "b048990e-003a-4d8b-bf2a-82317a5626de"
   },
   "outputs": [
    {
     "ename": "KeyboardInterrupt",
     "evalue": "ignored",
     "output_type": "error",
     "traceback": [
      "\u001b[0;31m---------------------------------------------------------------------------\u001b[0m",
      "\u001b[0;31mKeyboardInterrupt\u001b[0m                         Traceback (most recent call last)",
      "\u001b[0;32m/usr/local/lib/python3.6/dist-packages/ipykernel/kernelbase.py\u001b[0m in \u001b[0;36m_input_request\u001b[0;34m(self, prompt, ident, parent, password)\u001b[0m\n\u001b[1;32m    728\u001b[0m             \u001b[0;32mtry\u001b[0m\u001b[0;34m:\u001b[0m\u001b[0;34m\u001b[0m\u001b[0;34m\u001b[0m\u001b[0m\n\u001b[0;32m--> 729\u001b[0;31m                 \u001b[0mident\u001b[0m\u001b[0;34m,\u001b[0m \u001b[0mreply\u001b[0m \u001b[0;34m=\u001b[0m \u001b[0mself\u001b[0m\u001b[0;34m.\u001b[0m\u001b[0msession\u001b[0m\u001b[0;34m.\u001b[0m\u001b[0mrecv\u001b[0m\u001b[0;34m(\u001b[0m\u001b[0mself\u001b[0m\u001b[0;34m.\u001b[0m\u001b[0mstdin_socket\u001b[0m\u001b[0;34m,\u001b[0m \u001b[0;36m0\u001b[0m\u001b[0;34m)\u001b[0m\u001b[0;34m\u001b[0m\u001b[0;34m\u001b[0m\u001b[0m\n\u001b[0m\u001b[1;32m    730\u001b[0m             \u001b[0;32mexcept\u001b[0m \u001b[0mException\u001b[0m\u001b[0;34m:\u001b[0m\u001b[0;34m\u001b[0m\u001b[0;34m\u001b[0m\u001b[0m\n",
      "\u001b[0;32m/usr/local/lib/python3.6/dist-packages/jupyter_client/session.py\u001b[0m in \u001b[0;36mrecv\u001b[0;34m(self, socket, mode, content, copy)\u001b[0m\n\u001b[1;32m    802\u001b[0m         \u001b[0;32mtry\u001b[0m\u001b[0;34m:\u001b[0m\u001b[0;34m\u001b[0m\u001b[0;34m\u001b[0m\u001b[0m\n\u001b[0;32m--> 803\u001b[0;31m             \u001b[0mmsg_list\u001b[0m \u001b[0;34m=\u001b[0m \u001b[0msocket\u001b[0m\u001b[0;34m.\u001b[0m\u001b[0mrecv_multipart\u001b[0m\u001b[0;34m(\u001b[0m\u001b[0mmode\u001b[0m\u001b[0;34m,\u001b[0m \u001b[0mcopy\u001b[0m\u001b[0;34m=\u001b[0m\u001b[0mcopy\u001b[0m\u001b[0;34m)\u001b[0m\u001b[0;34m\u001b[0m\u001b[0;34m\u001b[0m\u001b[0m\n\u001b[0m\u001b[1;32m    804\u001b[0m         \u001b[0;32mexcept\u001b[0m \u001b[0mzmq\u001b[0m\u001b[0;34m.\u001b[0m\u001b[0mZMQError\u001b[0m \u001b[0;32mas\u001b[0m \u001b[0me\u001b[0m\u001b[0;34m:\u001b[0m\u001b[0;34m\u001b[0m\u001b[0;34m\u001b[0m\u001b[0m\n",
      "\u001b[0;32m/usr/local/lib/python3.6/dist-packages/zmq/sugar/socket.py\u001b[0m in \u001b[0;36mrecv_multipart\u001b[0;34m(self, flags, copy, track)\u001b[0m\n\u001b[1;32m    474\u001b[0m         \"\"\"\n\u001b[0;32m--> 475\u001b[0;31m         \u001b[0mparts\u001b[0m \u001b[0;34m=\u001b[0m \u001b[0;34m[\u001b[0m\u001b[0mself\u001b[0m\u001b[0;34m.\u001b[0m\u001b[0mrecv\u001b[0m\u001b[0;34m(\u001b[0m\u001b[0mflags\u001b[0m\u001b[0;34m,\u001b[0m \u001b[0mcopy\u001b[0m\u001b[0;34m=\u001b[0m\u001b[0mcopy\u001b[0m\u001b[0;34m,\u001b[0m \u001b[0mtrack\u001b[0m\u001b[0;34m=\u001b[0m\u001b[0mtrack\u001b[0m\u001b[0;34m)\u001b[0m\u001b[0;34m]\u001b[0m\u001b[0;34m\u001b[0m\u001b[0;34m\u001b[0m\u001b[0m\n\u001b[0m\u001b[1;32m    476\u001b[0m         \u001b[0;31m# have first part already, only loop while more to receive\u001b[0m\u001b[0;34m\u001b[0m\u001b[0;34m\u001b[0m\u001b[0;34m\u001b[0m\u001b[0m\n",
      "\u001b[0;32mzmq/backend/cython/socket.pyx\u001b[0m in \u001b[0;36mzmq.backend.cython.socket.Socket.recv\u001b[0;34m()\u001b[0m\n",
      "\u001b[0;32mzmq/backend/cython/socket.pyx\u001b[0m in \u001b[0;36mzmq.backend.cython.socket.Socket.recv\u001b[0;34m()\u001b[0m\n",
      "\u001b[0;32mzmq/backend/cython/socket.pyx\u001b[0m in \u001b[0;36mzmq.backend.cython.socket._recv_copy\u001b[0;34m()\u001b[0m\n",
      "\u001b[0;32m/usr/local/lib/python3.6/dist-packages/zmq/backend/cython/checkrc.pxd\u001b[0m in \u001b[0;36mzmq.backend.cython.checkrc._check_rc\u001b[0;34m()\u001b[0m\n",
      "\u001b[0;31mKeyboardInterrupt\u001b[0m: ",
      "\nDuring handling of the above exception, another exception occurred:\n",
      "\u001b[0;31mKeyboardInterrupt\u001b[0m                         Traceback (most recent call last)",
      "\u001b[0;32m<ipython-input-16-d5df0069828e>\u001b[0m in \u001b[0;36m<module>\u001b[0;34m()\u001b[0m\n\u001b[1;32m      1\u001b[0m \u001b[0;32mfrom\u001b[0m \u001b[0mgoogle\u001b[0m\u001b[0;34m.\u001b[0m\u001b[0mcolab\u001b[0m \u001b[0;32mimport\u001b[0m \u001b[0mdrive\u001b[0m\u001b[0;34m\u001b[0m\u001b[0;34m\u001b[0m\u001b[0m\n\u001b[0;32m----> 2\u001b[0;31m \u001b[0mdrive\u001b[0m\u001b[0;34m.\u001b[0m\u001b[0mmount\u001b[0m\u001b[0;34m(\u001b[0m\u001b[0;34m'/content/drive'\u001b[0m\u001b[0;34m)\u001b[0m\u001b[0;34m\u001b[0m\u001b[0;34m\u001b[0m\u001b[0m\n\u001b[0m",
      "\u001b[0;32m/usr/local/lib/python3.6/dist-packages/google/colab/drive.py\u001b[0m in \u001b[0;36mmount\u001b[0;34m(mountpoint, force_remount, timeout_ms, use_metadata_server)\u001b[0m\n\u001b[1;32m    236\u001b[0m       \u001b[0mauth_prompt\u001b[0m \u001b[0;34m=\u001b[0m \u001b[0md\u001b[0m\u001b[0;34m.\u001b[0m\u001b[0mmatch\u001b[0m\u001b[0;34m.\u001b[0m\u001b[0mgroup\u001b[0m\u001b[0;34m(\u001b[0m\u001b[0;36m1\u001b[0m\u001b[0;34m)\u001b[0m \u001b[0;34m+\u001b[0m \u001b[0;34m'\\nEnter your authorization code:\\n'\u001b[0m\u001b[0;34m\u001b[0m\u001b[0;34m\u001b[0m\u001b[0m\n\u001b[1;32m    237\u001b[0m       \u001b[0;32mwith\u001b[0m \u001b[0mopen\u001b[0m\u001b[0;34m(\u001b[0m\u001b[0mfifo\u001b[0m\u001b[0;34m,\u001b[0m \u001b[0;34m'w'\u001b[0m\u001b[0;34m)\u001b[0m \u001b[0;32mas\u001b[0m \u001b[0mfifo_file\u001b[0m\u001b[0;34m:\u001b[0m\u001b[0;34m\u001b[0m\u001b[0;34m\u001b[0m\u001b[0m\n\u001b[0;32m--> 238\u001b[0;31m         \u001b[0mfifo_file\u001b[0m\u001b[0;34m.\u001b[0m\u001b[0mwrite\u001b[0m\u001b[0;34m(\u001b[0m\u001b[0m_getpass\u001b[0m\u001b[0;34m.\u001b[0m\u001b[0mgetpass\u001b[0m\u001b[0;34m(\u001b[0m\u001b[0mauth_prompt\u001b[0m\u001b[0;34m)\u001b[0m \u001b[0;34m+\u001b[0m \u001b[0;34m'\\n'\u001b[0m\u001b[0;34m)\u001b[0m\u001b[0;34m\u001b[0m\u001b[0;34m\u001b[0m\u001b[0m\n\u001b[0m\u001b[1;32m    239\u001b[0m       \u001b[0mwrote_to_fifo\u001b[0m \u001b[0;34m=\u001b[0m \u001b[0;32mTrue\u001b[0m\u001b[0;34m\u001b[0m\u001b[0;34m\u001b[0m\u001b[0m\n\u001b[1;32m    240\u001b[0m   \u001b[0;32mif\u001b[0m \u001b[0;32mnot\u001b[0m \u001b[0mwrote_to_fifo\u001b[0m\u001b[0;34m:\u001b[0m\u001b[0;34m\u001b[0m\u001b[0;34m\u001b[0m\u001b[0m\n",
      "\u001b[0;32m/usr/local/lib/python3.6/dist-packages/ipykernel/kernelbase.py\u001b[0m in \u001b[0;36mgetpass\u001b[0;34m(self, prompt, stream)\u001b[0m\n\u001b[1;32m    685\u001b[0m             \u001b[0mself\u001b[0m\u001b[0;34m.\u001b[0m\u001b[0m_parent_ident\u001b[0m\u001b[0;34m,\u001b[0m\u001b[0;34m\u001b[0m\u001b[0;34m\u001b[0m\u001b[0m\n\u001b[1;32m    686\u001b[0m             \u001b[0mself\u001b[0m\u001b[0;34m.\u001b[0m\u001b[0m_parent_header\u001b[0m\u001b[0;34m,\u001b[0m\u001b[0;34m\u001b[0m\u001b[0;34m\u001b[0m\u001b[0m\n\u001b[0;32m--> 687\u001b[0;31m             \u001b[0mpassword\u001b[0m\u001b[0;34m=\u001b[0m\u001b[0;32mTrue\u001b[0m\u001b[0;34m,\u001b[0m\u001b[0;34m\u001b[0m\u001b[0;34m\u001b[0m\u001b[0m\n\u001b[0m\u001b[1;32m    688\u001b[0m         )\n\u001b[1;32m    689\u001b[0m \u001b[0;34m\u001b[0m\u001b[0m\n",
      "\u001b[0;32m/usr/local/lib/python3.6/dist-packages/ipykernel/kernelbase.py\u001b[0m in \u001b[0;36m_input_request\u001b[0;34m(self, prompt, ident, parent, password)\u001b[0m\n\u001b[1;32m    732\u001b[0m             \u001b[0;32mexcept\u001b[0m \u001b[0mKeyboardInterrupt\u001b[0m\u001b[0;34m:\u001b[0m\u001b[0;34m\u001b[0m\u001b[0;34m\u001b[0m\u001b[0m\n\u001b[1;32m    733\u001b[0m                 \u001b[0;31m# re-raise KeyboardInterrupt, to truncate traceback\u001b[0m\u001b[0;34m\u001b[0m\u001b[0;34m\u001b[0m\u001b[0;34m\u001b[0m\u001b[0m\n\u001b[0;32m--> 734\u001b[0;31m                 \u001b[0;32mraise\u001b[0m \u001b[0mKeyboardInterrupt\u001b[0m\u001b[0;34m\u001b[0m\u001b[0;34m\u001b[0m\u001b[0m\n\u001b[0m\u001b[1;32m    735\u001b[0m             \u001b[0;32melse\u001b[0m\u001b[0;34m:\u001b[0m\u001b[0;34m\u001b[0m\u001b[0;34m\u001b[0m\u001b[0m\n\u001b[1;32m    736\u001b[0m                 \u001b[0;32mbreak\u001b[0m\u001b[0;34m\u001b[0m\u001b[0;34m\u001b[0m\u001b[0m\n",
      "\u001b[0;31mKeyboardInterrupt\u001b[0m: "
     ]
    }
   ],
   "source": [
    "from google.colab import drive\n",
    "drive.mount('/content/drive')"
   ]
  },
  {
   "cell_type": "code",
   "execution_count": null,
   "metadata": {
    "colab": {},
    "colab_type": "code",
    "id": "YH-NB8Pt0Jth"
   },
   "outputs": [],
   "source": [
    "root = \"./output\"\n",
    "\n",
    "\n",
    "file3rate = root+\"/allAnnos_3ratings_3per.csv\"\n",
    "rows3 = []\n",
    "\n",
    "fields_base = [\"ID\", \"DataSet\", \"Text\"]\n",
    "#fields1 = fields_base + [\"Off1\", \"Slur1\", \"Nom1\", \"Dist1\"]\n",
    "#fields2 = fields_base + [\"Off1\", \"Off2\", \"Slur1\", \"Slur2\", \"Nom1\", \"Nom2\", \"Dist1\", \"Dist2\"]\n",
    "fields3 = fields_base + [\"Off1\", \"Off2\", \"Off3\", \"Slur1\", \"Slur2\", \"Slur3\",\"Nom1\", \"Nom2\",\"Nom3\", \"Dist1\", \"Dist2\",\"Dist3\"]\n",
    "#fields4 = fields_base + [\"Off1\", \"Off2\", \"Off3\", \"Off4\",\"Slur1\", \"Slur2\", \"Slur3\",\"Slur4\",\"Nom1\", \"Nom2\",\"Nom3\", \"Nom4\",\"Dist1\", \"Dist2\",\"Dist3\",\"Dist4\"]\n",
    "#fields5 = fields_base + [\"Off1\", \"Off2\", \"Off3\", \"Off4\",\"Off5\",\"Slur1\", \"Slur2\", \"Slur3\",\"Slur4\",\"Slur5\",\"Nom1\", \"Nom2\",\"Nom3\", \"Nom4\",\"Nom5\",\"Dist1\", \"Dist2\",\"Dist3\",\"Dist4\",\"Dist5\"]\n",
    "#fields6 = fields_base + [\"Off1\", \"Off2\", \"Off3\", \"Off4\",\"Off5\",\"Off6\",\"Slur1\", \"Slur2\", \"Slur3\",\"Slur4\",\"Slur5\",\"Slur6\",\"Nom1\", \"Nom2\",\"Nom3\", \"Nom4\",\"Nom5\",\"Nom6\",\"Dist1\", \"Dist2\",\"Dist3\",\"Dist4\",\"Dist5\",\"Dist6\"]\n"
   ]
  },
  {
   "cell_type": "code",
   "execution_count": null,
   "metadata": {
    "colab": {},
    "colab_type": "code",
    "id": "_ysERp8Y0wWI"
   },
   "outputs": [],
   "source": [
    "for t in tweets3:\n",
    "    ratings = len(t.annos)\n",
    "    if ratings == 3:\n",
    "        this = [t.id, t.dataset, t.text] + [o for o in t.off] + [s for s in t.slur] + [a for a in t.adjNom] + [d for d in t.dist]\n",
    "        rows3.append(this)\n",
    "    else:\n",
    "        print(\"error\")"
   ]
  },
  {
   "cell_type": "code",
   "execution_count": null,
   "metadata": {
    "colab": {
     "base_uri": "https://localhost:8080/",
     "height": 231
    },
    "colab_type": "code",
    "id": "kecT8-qW4Cpy",
    "outputId": "f9fc0c0a-099d-43b6-a48e-dbe1e1a4b97a"
   },
   "outputs": [
    {
     "ename": "FileNotFoundError",
     "evalue": "ignored",
     "output_type": "error",
     "traceback": [
      "\u001b[0;31m---------------------------------------------------------------------------\u001b[0m",
      "\u001b[0;31mFileNotFoundError\u001b[0m                         Traceback (most recent call last)",
      "\u001b[0;32m<ipython-input-19-86f9b33c28be>\u001b[0m in \u001b[0;36m<module>\u001b[0;34m()\u001b[0m\n\u001b[0;32m----> 1\u001b[0;31m \u001b[0;32mwith\u001b[0m \u001b[0mopen\u001b[0m\u001b[0;34m(\u001b[0m\u001b[0mfile3rate\u001b[0m\u001b[0;34m,\u001b[0m\u001b[0;34m'w'\u001b[0m\u001b[0;34m)\u001b[0m \u001b[0;32mas\u001b[0m \u001b[0mcsvfile\u001b[0m\u001b[0;34m:\u001b[0m\u001b[0;34m\u001b[0m\u001b[0;34m\u001b[0m\u001b[0m\n\u001b[0m\u001b[1;32m      2\u001b[0m     \u001b[0mcsvwriter\u001b[0m \u001b[0;34m=\u001b[0m \u001b[0mcsv\u001b[0m\u001b[0;34m.\u001b[0m\u001b[0mwriter\u001b[0m\u001b[0;34m(\u001b[0m\u001b[0mcsvfile\u001b[0m\u001b[0;34m)\u001b[0m\u001b[0;34m\u001b[0m\u001b[0;34m\u001b[0m\u001b[0m\n\u001b[1;32m      3\u001b[0m     \u001b[0mcsvwriter\u001b[0m\u001b[0;34m.\u001b[0m\u001b[0mwriterow\u001b[0m\u001b[0;34m(\u001b[0m\u001b[0mfields1\u001b[0m\u001b[0;34m)\u001b[0m\u001b[0;34m\u001b[0m\u001b[0;34m\u001b[0m\u001b[0m\n\u001b[1;32m      4\u001b[0m     \u001b[0mcsvwriter\u001b[0m\u001b[0;34m.\u001b[0m\u001b[0mwriterows\u001b[0m\u001b[0;34m(\u001b[0m\u001b[0mrows1\u001b[0m\u001b[0;34m)\u001b[0m\u001b[0;34m\u001b[0m\u001b[0;34m\u001b[0m\u001b[0m\n\u001b[1;32m      5\u001b[0m \u001b[0;34m\u001b[0m\u001b[0m\n",
      "\u001b[0;31mFileNotFoundError\u001b[0m: [Errno 2] No such file or directory: './output/allAnnos_3ratings_3per.csv'"
     ]
    }
   ],
   "source": [
    "with open(file3rate,'w') as csvfile:\n",
    "    csvwriter = csv.writer(csvfile)\n",
    "    csvwriter.writerow(fields1)\n",
    "    csvwriter.writerows(rows1)\n",
    "\n",
    "\n"
   ]
  },
  {
   "cell_type": "code",
   "execution_count": null,
   "metadata": {
    "colab": {
     "base_uri": "https://localhost:8080/",
     "height": 231
    },
    "colab_type": "code",
    "id": "5Szh9Ufn4aQs",
    "outputId": "c809ab8a-024d-401f-907a-0d982d3cef02"
   },
   "outputs": [
    {
     "ename": "NameError",
     "evalue": "ignored",
     "output_type": "error",
     "traceback": [
      "\u001b[0;31m---------------------------------------------------------------------------\u001b[0m",
      "\u001b[0;31mNameError\u001b[0m                                 Traceback (most recent call last)",
      "\u001b[0;32m<ipython-input-19-fd4726f600ab>\u001b[0m in \u001b[0;36m<module>\u001b[0;34m()\u001b[0m\n\u001b[0;32m----> 1\u001b[0;31m \u001b[0;32mwith\u001b[0m \u001b[0mopen\u001b[0m\u001b[0;34m(\u001b[0m\u001b[0mfile2rate\u001b[0m\u001b[0;34m,\u001b[0m\u001b[0;34m'w'\u001b[0m\u001b[0;34m)\u001b[0m \u001b[0;32mas\u001b[0m \u001b[0mcsvfile\u001b[0m\u001b[0;34m:\u001b[0m\u001b[0;34m\u001b[0m\u001b[0;34m\u001b[0m\u001b[0m\n\u001b[0m\u001b[1;32m      2\u001b[0m     \u001b[0mcsvwriter\u001b[0m \u001b[0;34m=\u001b[0m \u001b[0mcsv\u001b[0m\u001b[0;34m.\u001b[0m\u001b[0mwriter\u001b[0m\u001b[0;34m(\u001b[0m\u001b[0mcsvfile\u001b[0m\u001b[0;34m)\u001b[0m\u001b[0;34m\u001b[0m\u001b[0;34m\u001b[0m\u001b[0m\n\u001b[1;32m      3\u001b[0m     \u001b[0mcsvwriter\u001b[0m\u001b[0;34m.\u001b[0m\u001b[0mwriterow\u001b[0m\u001b[0;34m(\u001b[0m\u001b[0mfields2\u001b[0m\u001b[0;34m)\u001b[0m\u001b[0;34m\u001b[0m\u001b[0;34m\u001b[0m\u001b[0m\n\u001b[1;32m      4\u001b[0m     \u001b[0mcsvwriter\u001b[0m\u001b[0;34m.\u001b[0m\u001b[0mwriterows\u001b[0m\u001b[0;34m(\u001b[0m\u001b[0mrows2\u001b[0m\u001b[0;34m)\u001b[0m\u001b[0;34m\u001b[0m\u001b[0;34m\u001b[0m\u001b[0m\n\u001b[1;32m      5\u001b[0m \u001b[0;34m\u001b[0m\u001b[0m\n",
      "\u001b[0;31mNameError\u001b[0m: name 'file2rate' is not defined"
     ]
    }
   ],
   "source": [
    "with open(file2rate,'w') as csvfile:\n",
    "    csvwriter = csv.writer(csvfile)\n",
    "    csvwriter.writerow(fields2)\n",
    "    csvwriter.writerows(rows2)\n",
    "\n"
   ]
  },
  {
   "cell_type": "code",
   "execution_count": null,
   "metadata": {
    "colab": {
     "base_uri": "https://localhost:8080/",
     "height": 214
    },
    "colab_type": "code",
    "id": "5T6oUJPl4dL0",
    "outputId": "93dd0a48-b6eb-4aa7-cf08-70f2ae7a6e00"
   },
   "outputs": [
    {
     "ename": "FileNotFoundError",
     "evalue": "ignored",
     "output_type": "error",
     "traceback": [
      "\u001b[0;31m---------------------------------------------------------------------------\u001b[0m",
      "\u001b[0;31mFileNotFoundError\u001b[0m                         Traceback (most recent call last)",
      "\u001b[0;32m<ipython-input-20-de5dc355b5f6>\u001b[0m in \u001b[0;36m<module>\u001b[0;34m()\u001b[0m\n\u001b[0;32m----> 1\u001b[0;31m \u001b[0;32mwith\u001b[0m \u001b[0mopen\u001b[0m\u001b[0;34m(\u001b[0m\u001b[0mfile3rate\u001b[0m\u001b[0;34m,\u001b[0m\u001b[0;34m'w'\u001b[0m\u001b[0;34m)\u001b[0m \u001b[0;32mas\u001b[0m \u001b[0mcsvfile\u001b[0m\u001b[0;34m:\u001b[0m\u001b[0;34m\u001b[0m\u001b[0;34m\u001b[0m\u001b[0m\n\u001b[0m\u001b[1;32m      2\u001b[0m     \u001b[0mcsvwriter\u001b[0m \u001b[0;34m=\u001b[0m \u001b[0mcsv\u001b[0m\u001b[0;34m.\u001b[0m\u001b[0mwriter\u001b[0m\u001b[0;34m(\u001b[0m\u001b[0mcsvfile\u001b[0m\u001b[0;34m)\u001b[0m\u001b[0;34m\u001b[0m\u001b[0;34m\u001b[0m\u001b[0m\n\u001b[1;32m      3\u001b[0m     \u001b[0mcsvwriter\u001b[0m\u001b[0;34m.\u001b[0m\u001b[0mwriterow\u001b[0m\u001b[0;34m(\u001b[0m\u001b[0mfields3\u001b[0m\u001b[0;34m)\u001b[0m\u001b[0;34m\u001b[0m\u001b[0;34m\u001b[0m\u001b[0m\n\u001b[1;32m      4\u001b[0m     \u001b[0mcsvwriter\u001b[0m\u001b[0;34m.\u001b[0m\u001b[0mwriterows\u001b[0m\u001b[0;34m(\u001b[0m\u001b[0mrows3\u001b[0m\u001b[0;34m)\u001b[0m\u001b[0;34m\u001b[0m\u001b[0;34m\u001b[0m\u001b[0m\n",
      "\u001b[0;31mFileNotFoundError\u001b[0m: [Errno 2] No such file or directory: './output/allAnnos_3ratings_3per.csv'"
     ]
    }
   ],
   "source": [
    "with open(file3rate,'w') as csvfile:\n",
    "    csvwriter = csv.writer(csvfile)\n",
    "    csvwriter.writerow(fields3)\n",
    "    csvwriter.writerows(rows3)"
   ]
  },
  {
   "cell_type": "code",
   "execution_count": null,
   "metadata": {
    "colab": {
     "base_uri": "https://localhost:8080/",
     "height": 214
    },
    "colab_type": "code",
    "id": "kU1tzWqYF7fr",
    "outputId": "7b18b503-8d3b-4703-81e0-ef99259135b2"
   },
   "outputs": [
    {
     "ename": "NameError",
     "evalue": "ignored",
     "output_type": "error",
     "traceback": [
      "\u001b[0;31m---------------------------------------------------------------------------\u001b[0m",
      "\u001b[0;31mNameError\u001b[0m                                 Traceback (most recent call last)",
      "\u001b[0;32m<ipython-input-21-3495f642fdcd>\u001b[0m in \u001b[0;36m<module>\u001b[0;34m()\u001b[0m\n\u001b[0;32m----> 1\u001b[0;31m \u001b[0;32mwith\u001b[0m \u001b[0mopen\u001b[0m\u001b[0;34m(\u001b[0m\u001b[0mfile4rate\u001b[0m\u001b[0;34m,\u001b[0m\u001b[0;34m'w'\u001b[0m\u001b[0;34m)\u001b[0m \u001b[0;32mas\u001b[0m \u001b[0mcsvfile\u001b[0m\u001b[0;34m:\u001b[0m\u001b[0;34m\u001b[0m\u001b[0;34m\u001b[0m\u001b[0m\n\u001b[0m\u001b[1;32m      2\u001b[0m     \u001b[0mcsvwriter\u001b[0m \u001b[0;34m=\u001b[0m \u001b[0mcsv\u001b[0m\u001b[0;34m.\u001b[0m\u001b[0mwriter\u001b[0m\u001b[0;34m(\u001b[0m\u001b[0mcsvfile\u001b[0m\u001b[0;34m)\u001b[0m\u001b[0;34m\u001b[0m\u001b[0;34m\u001b[0m\u001b[0m\n\u001b[1;32m      3\u001b[0m     \u001b[0mcsvwriter\u001b[0m\u001b[0;34m.\u001b[0m\u001b[0mwriterow\u001b[0m\u001b[0;34m(\u001b[0m\u001b[0mfields4\u001b[0m\u001b[0;34m)\u001b[0m\u001b[0;34m\u001b[0m\u001b[0;34m\u001b[0m\u001b[0m\n\u001b[1;32m      4\u001b[0m     \u001b[0mcsvwriter\u001b[0m\u001b[0;34m.\u001b[0m\u001b[0mwriterows\u001b[0m\u001b[0;34m(\u001b[0m\u001b[0mrows4\u001b[0m\u001b[0;34m)\u001b[0m\u001b[0;34m\u001b[0m\u001b[0;34m\u001b[0m\u001b[0m\n",
      "\u001b[0;31mNameError\u001b[0m: name 'file4rate' is not defined"
     ]
    }
   ],
   "source": [
    "with open(file4rate,'w') as csvfile:\n",
    "    csvwriter = csv.writer(csvfile)\n",
    "    csvwriter.writerow(fields4)\n",
    "    csvwriter.writerows(rows4)"
   ]
  },
  {
   "cell_type": "code",
   "execution_count": null,
   "metadata": {
    "colab": {
     "base_uri": "https://localhost:8080/",
     "height": 214
    },
    "colab_type": "code",
    "id": "kRZRnSsMF7xH",
    "outputId": "7c56d1fd-54f1-44c6-8002-787f95df7bd2"
   },
   "outputs": [
    {
     "ename": "NameError",
     "evalue": "ignored",
     "output_type": "error",
     "traceback": [
      "\u001b[0;31m---------------------------------------------------------------------------\u001b[0m",
      "\u001b[0;31mNameError\u001b[0m                                 Traceback (most recent call last)",
      "\u001b[0;32m<ipython-input-22-87135d8dad87>\u001b[0m in \u001b[0;36m<module>\u001b[0;34m()\u001b[0m\n\u001b[0;32m----> 1\u001b[0;31m \u001b[0;32mwith\u001b[0m \u001b[0mopen\u001b[0m\u001b[0;34m(\u001b[0m\u001b[0mfile5rate\u001b[0m\u001b[0;34m,\u001b[0m\u001b[0;34m'w'\u001b[0m\u001b[0;34m)\u001b[0m \u001b[0;32mas\u001b[0m \u001b[0mcsvfile\u001b[0m\u001b[0;34m:\u001b[0m\u001b[0;34m\u001b[0m\u001b[0;34m\u001b[0m\u001b[0m\n\u001b[0m\u001b[1;32m      2\u001b[0m     \u001b[0mcsvwriter\u001b[0m \u001b[0;34m=\u001b[0m \u001b[0mcsv\u001b[0m\u001b[0;34m.\u001b[0m\u001b[0mwriter\u001b[0m\u001b[0;34m(\u001b[0m\u001b[0mcsvfile\u001b[0m\u001b[0;34m)\u001b[0m\u001b[0;34m\u001b[0m\u001b[0;34m\u001b[0m\u001b[0m\n\u001b[1;32m      3\u001b[0m     \u001b[0mcsvwriter\u001b[0m\u001b[0;34m.\u001b[0m\u001b[0mwriterow\u001b[0m\u001b[0;34m(\u001b[0m\u001b[0mfields5\u001b[0m\u001b[0;34m)\u001b[0m\u001b[0;34m\u001b[0m\u001b[0;34m\u001b[0m\u001b[0m\n\u001b[1;32m      4\u001b[0m     \u001b[0mcsvwriter\u001b[0m\u001b[0;34m.\u001b[0m\u001b[0mwriterows\u001b[0m\u001b[0;34m(\u001b[0m\u001b[0mrows5\u001b[0m\u001b[0;34m)\u001b[0m\u001b[0;34m\u001b[0m\u001b[0;34m\u001b[0m\u001b[0m\n",
      "\u001b[0;31mNameError\u001b[0m: name 'file5rate' is not defined"
     ]
    }
   ],
   "source": [
    "with open(file5rate,'w') as csvfile:\n",
    "    csvwriter = csv.writer(csvfile)\n",
    "    csvwriter.writerow(fields5)\n",
    "    csvwriter.writerows(rows5)"
   ]
  },
  {
   "cell_type": "code",
   "execution_count": null,
   "metadata": {
    "colab": {
     "base_uri": "https://localhost:8080/",
     "height": 214
    },
    "colab_type": "code",
    "id": "IMN7B2-vF6kh",
    "outputId": "8bcae40d-0d76-4d61-e843-7eac523143b0"
   },
   "outputs": [
    {
     "ename": "NameError",
     "evalue": "ignored",
     "output_type": "error",
     "traceback": [
      "\u001b[0;31m---------------------------------------------------------------------------\u001b[0m",
      "\u001b[0;31mNameError\u001b[0m                                 Traceback (most recent call last)",
      "\u001b[0;32m<ipython-input-23-5f643b18c2bd>\u001b[0m in \u001b[0;36m<module>\u001b[0;34m()\u001b[0m\n\u001b[0;32m----> 1\u001b[0;31m \u001b[0;32mwith\u001b[0m \u001b[0mopen\u001b[0m\u001b[0;34m(\u001b[0m\u001b[0mfile6rate\u001b[0m\u001b[0;34m,\u001b[0m\u001b[0;34m'w'\u001b[0m\u001b[0;34m)\u001b[0m \u001b[0;32mas\u001b[0m \u001b[0mcsvfile\u001b[0m\u001b[0;34m:\u001b[0m\u001b[0;34m\u001b[0m\u001b[0;34m\u001b[0m\u001b[0m\n\u001b[0m\u001b[1;32m      2\u001b[0m     \u001b[0mcsvwriter\u001b[0m \u001b[0;34m=\u001b[0m \u001b[0mcsv\u001b[0m\u001b[0;34m.\u001b[0m\u001b[0mwriter\u001b[0m\u001b[0;34m(\u001b[0m\u001b[0mcsvfile\u001b[0m\u001b[0;34m)\u001b[0m\u001b[0;34m\u001b[0m\u001b[0;34m\u001b[0m\u001b[0m\n\u001b[1;32m      3\u001b[0m     \u001b[0mcsvwriter\u001b[0m\u001b[0;34m.\u001b[0m\u001b[0mwriterow\u001b[0m\u001b[0;34m(\u001b[0m\u001b[0mfields6\u001b[0m\u001b[0;34m)\u001b[0m\u001b[0;34m\u001b[0m\u001b[0;34m\u001b[0m\u001b[0m\n\u001b[1;32m      4\u001b[0m     \u001b[0mcsvwriter\u001b[0m\u001b[0;34m.\u001b[0m\u001b[0mwriterows\u001b[0m\u001b[0;34m(\u001b[0m\u001b[0mrows6\u001b[0m\u001b[0;34m)\u001b[0m\u001b[0;34m\u001b[0m\u001b[0;34m\u001b[0m\u001b[0m\n",
      "\u001b[0;31mNameError\u001b[0m: name 'file6rate' is not defined"
     ]
    }
   ],
   "source": [
    "with open(file6rate,'w') as csvfile:\n",
    "    csvwriter = csv.writer(csvfile)\n",
    "    csvwriter.writerow(fields6)\n",
    "    csvwriter.writerows(rows6)"
   ]
  },
  {
   "cell_type": "markdown",
   "metadata": {
    "colab_type": "text",
    "id": "0injVbPcGe1S"
   },
   "source": [
    "### Sort tweets into categories based on annotations"
   ]
  },
  {
   "cell_type": "code",
   "execution_count": null,
   "metadata": {
    "colab": {
     "base_uri": "https://localhost:8080/",
     "height": 231
    },
    "colab_type": "code",
    "id": "NmDnBiq0GZDd",
    "outputId": "ae185e28-c16d-4be2-a359-a61967a900fe"
   },
   "outputs": [
    {
     "ename": "FileNotFoundError",
     "evalue": "ignored",
     "output_type": "error",
     "traceback": [
      "\u001b[0;31m---------------------------------------------------------------------------\u001b[0m",
      "\u001b[0;31mFileNotFoundError\u001b[0m                         Traceback (most recent call last)",
      "\u001b[0;32m<ipython-input-14-25bfe7d1166b>\u001b[0m in \u001b[0;36m<module>\u001b[0;34m()\u001b[0m\n\u001b[1;32m      1\u001b[0m \u001b[0mgold\u001b[0m \u001b[0;34m=\u001b[0m \u001b[0;34m[\u001b[0m\u001b[0;34m]\u001b[0m\u001b[0;34m\u001b[0m\u001b[0;34m\u001b[0m\u001b[0m\n\u001b[0;32m----> 2\u001b[0;31m \u001b[0;32mwith\u001b[0m \u001b[0mopen\u001b[0m\u001b[0;34m(\u001b[0m\u001b[0;34m\"allAnnos_majVote_3per.csv\"\u001b[0m\u001b[0;34m)\u001b[0m \u001b[0;32mas\u001b[0m \u001b[0mcsvfile\u001b[0m\u001b[0;34m:\u001b[0m\u001b[0;34m\u001b[0m\u001b[0;34m\u001b[0m\u001b[0m\n\u001b[0m\u001b[1;32m      3\u001b[0m     \u001b[0mcsvreader\u001b[0m \u001b[0;34m=\u001b[0m \u001b[0mcsv\u001b[0m\u001b[0;34m.\u001b[0m\u001b[0mreader\u001b[0m\u001b[0;34m(\u001b[0m\u001b[0mcsvfile\u001b[0m\u001b[0;34m)\u001b[0m\u001b[0;34m\u001b[0m\u001b[0;34m\u001b[0m\u001b[0m\n\u001b[1;32m      4\u001b[0m     \u001b[0;32mfor\u001b[0m \u001b[0mrow\u001b[0m \u001b[0;32min\u001b[0m \u001b[0mcsvreader\u001b[0m\u001b[0;34m:\u001b[0m\u001b[0;34m\u001b[0m\u001b[0;34m\u001b[0m\u001b[0m\n\u001b[1;32m      5\u001b[0m         \u001b[0mgold\u001b[0m\u001b[0;34m.\u001b[0m\u001b[0mappend\u001b[0m\u001b[0;34m(\u001b[0m\u001b[0mrow\u001b[0m\u001b[0;34m)\u001b[0m\u001b[0;34m\u001b[0m\u001b[0;34m\u001b[0m\u001b[0m\n",
      "\u001b[0;31mFileNotFoundError\u001b[0m: [Errno 2] No such file or directory: 'allAnnos_majVote_3per.csv'"
     ]
    }
   ],
   "source": [
    "gold = []\n",
    "with open(\"allAnnos_majVote_3per.csv\") as csvfile:\n",
    "    csvreader = csv.reader(csvfile)\n",
    "    for row in csvreader:\n",
    "        gold.append(row)"
   ]
  },
  {
   "cell_type": "code",
   "execution_count": null,
   "metadata": {
    "colab": {},
    "colab_type": "code",
    "id": "4-btFWIlP0DV"
   },
   "outputs": [],
   "source": [
    "def getCat(line):\n",
    "    cat = ''\n",
    "    offMaj = line[3]\n",
    "    slurMaj = line[4]\n",
    "    adjNomMaj = line[5]\n",
    "    distMaj = line[6]\n",
    "\n",
    "    if offMaj == 'Y':\n",
    "        if slurMaj == 'Y':\n",
    "            cat = 'offSlur'\n",
    "        elif adjNomMaj == 'Y':\n",
    "            if distMaj == 'Y':\n",
    "                cat = 'offBoth'\n",
    "            else:\n",
    "                cat = 'offNom'\n",
    "        elif distMaj == 'Y':\n",
    "            cat = 'offDist'\n",
    "        else:\n",
    "            cat = 'offOther'\n",
    "    \n",
    "    else:\n",
    "        if slurMaj == 'Y':\n",
    "            cat = 'reclaimed'\n",
    "        elif adjNomMaj == 'Y':\n",
    "            if distMaj == 'Y':\n",
    "                cat = 'nonBoth'\n",
    "            else:\n",
    "                cat = 'nonNom'\n",
    "        elif distMaj == 'Y':\n",
    "            cat = 'nonDist'\n",
    "        else:\n",
    "            cat = 'nonNone'\n",
    "    line.append(cat)\n",
    "    return(line)\n",
    "\n"
   ]
  },
  {
   "cell_type": "code",
   "execution_count": null,
   "metadata": {
    "colab": {},
    "colab_type": "code",
    "id": "fucwwPa8RGlJ"
   },
   "outputs": [],
   "source": [
    "#newgold = []\n",
    "#for line in gold[1:]:\n",
    "#    newline = getCat(line)\n",
    "#    newgold.append(newline)\n",
    "\n",
    "newgold = [getCat(line) for line in gold[1:]]"
   ]
  },
  {
   "cell_type": "code",
   "execution_count": null,
   "metadata": {
    "colab": {
     "base_uri": "https://localhost:8080/",
     "height": 34
    },
    "colab_type": "code",
    "id": "1EkdTOluSzuB",
    "outputId": "70803e39-13a6-43d4-c5aa-2086908c5a3b"
   },
   "outputs": [
    {
     "name": "stdout",
     "output_type": "stream",
     "text": [
      "2035\n"
     ]
    }
   ],
   "source": [
    "print(len(newgold))"
   ]
  },
  {
   "cell_type": "code",
   "execution_count": null,
   "metadata": {
    "colab": {},
    "colab_type": "code",
    "id": "20waG_GSTHYl"
   },
   "outputs": [],
   "source": [
    "fields = ['ID','DataSet','Text','Off','Slur','Nom','Dist','Cat']\n",
    "with open('allAnnos_majVote_forJordan_withCats.csv','w') as csvfile:\n",
    "    csvwriter = csv.writer(csvfile)\n",
    "    csvwriter.writerow(fields)\n",
    "    csvwriter.writerows(newgold)"
   ]
  },
  {
   "cell_type": "markdown",
   "metadata": {
    "colab_type": "text",
    "id": "m_FtZngPkJbx"
   },
   "source": [
    "### A new approach to agreement"
   ]
  },
  {
   "cell_type": "code",
   "execution_count": null,
   "metadata": {
    "colab": {
     "base_uri": "https://localhost:8080/",
     "height": 646
    },
    "colab_type": "code",
    "id": "Kt6XDFMgkLFj",
    "outputId": "c4b353f9-71a2-4663-ceec-66be48612d63"
   },
   "outputs": [
    {
     "name": "stdout",
     "output_type": "stream",
     "text": [
      "\n",
      "Agreement for tweets with 3 ratings (num=2035):\n",
      "\tFleiss for Off: 0.612176808641872\tAlpha for Off: 0.6115894747296602\n",
      "\tFleiss for Slur: 0.3804445354146634\tAlpha for Slur: 0.38006931940131605\n",
      "\tFleiss for AdjNom: 0.4332441798279971\tAlpha for AdjNom: 0.4330331965873494\n",
      "\tFleiss for Dist: 0.7530730090496497\tAlpha for Dist: 0.7529749285237823\n",
      "\n"
     ]
    },
    {
     "ename": "KeyboardInterrupt",
     "evalue": "ignored",
     "output_type": "error",
     "traceback": [
      "\u001b[0;31m---------------------------------------------------------------------------\u001b[0m",
      "\u001b[0;31mKeyboardInterrupt\u001b[0m                         Traceback (most recent call last)",
      "\u001b[0;32m/usr/local/lib/python3.6/dist-packages/ipykernel/kernelbase.py\u001b[0m in \u001b[0;36m_input_request\u001b[0;34m(self, prompt, ident, parent, password)\u001b[0m\n\u001b[1;32m    728\u001b[0m             \u001b[0;32mtry\u001b[0m\u001b[0;34m:\u001b[0m\u001b[0;34m\u001b[0m\u001b[0;34m\u001b[0m\u001b[0m\n\u001b[0;32m--> 729\u001b[0;31m                 \u001b[0mident\u001b[0m\u001b[0;34m,\u001b[0m \u001b[0mreply\u001b[0m \u001b[0;34m=\u001b[0m \u001b[0mself\u001b[0m\u001b[0;34m.\u001b[0m\u001b[0msession\u001b[0m\u001b[0;34m.\u001b[0m\u001b[0mrecv\u001b[0m\u001b[0;34m(\u001b[0m\u001b[0mself\u001b[0m\u001b[0;34m.\u001b[0m\u001b[0mstdin_socket\u001b[0m\u001b[0;34m,\u001b[0m \u001b[0;36m0\u001b[0m\u001b[0;34m)\u001b[0m\u001b[0;34m\u001b[0m\u001b[0;34m\u001b[0m\u001b[0m\n\u001b[0m\u001b[1;32m    730\u001b[0m             \u001b[0;32mexcept\u001b[0m \u001b[0mException\u001b[0m\u001b[0;34m:\u001b[0m\u001b[0;34m\u001b[0m\u001b[0;34m\u001b[0m\u001b[0m\n",
      "\u001b[0;32m/usr/local/lib/python3.6/dist-packages/jupyter_client/session.py\u001b[0m in \u001b[0;36mrecv\u001b[0;34m(self, socket, mode, content, copy)\u001b[0m\n\u001b[1;32m    802\u001b[0m         \u001b[0;32mtry\u001b[0m\u001b[0;34m:\u001b[0m\u001b[0;34m\u001b[0m\u001b[0;34m\u001b[0m\u001b[0m\n\u001b[0;32m--> 803\u001b[0;31m             \u001b[0mmsg_list\u001b[0m \u001b[0;34m=\u001b[0m \u001b[0msocket\u001b[0m\u001b[0;34m.\u001b[0m\u001b[0mrecv_multipart\u001b[0m\u001b[0;34m(\u001b[0m\u001b[0mmode\u001b[0m\u001b[0;34m,\u001b[0m \u001b[0mcopy\u001b[0m\u001b[0;34m=\u001b[0m\u001b[0mcopy\u001b[0m\u001b[0;34m)\u001b[0m\u001b[0;34m\u001b[0m\u001b[0;34m\u001b[0m\u001b[0m\n\u001b[0m\u001b[1;32m    804\u001b[0m         \u001b[0;32mexcept\u001b[0m \u001b[0mzmq\u001b[0m\u001b[0;34m.\u001b[0m\u001b[0mZMQError\u001b[0m \u001b[0;32mas\u001b[0m \u001b[0me\u001b[0m\u001b[0;34m:\u001b[0m\u001b[0;34m\u001b[0m\u001b[0;34m\u001b[0m\u001b[0m\n",
      "\u001b[0;32m/usr/local/lib/python3.6/dist-packages/zmq/sugar/socket.py\u001b[0m in \u001b[0;36mrecv_multipart\u001b[0;34m(self, flags, copy, track)\u001b[0m\n\u001b[1;32m    474\u001b[0m         \"\"\"\n\u001b[0;32m--> 475\u001b[0;31m         \u001b[0mparts\u001b[0m \u001b[0;34m=\u001b[0m \u001b[0;34m[\u001b[0m\u001b[0mself\u001b[0m\u001b[0;34m.\u001b[0m\u001b[0mrecv\u001b[0m\u001b[0;34m(\u001b[0m\u001b[0mflags\u001b[0m\u001b[0;34m,\u001b[0m \u001b[0mcopy\u001b[0m\u001b[0;34m=\u001b[0m\u001b[0mcopy\u001b[0m\u001b[0;34m,\u001b[0m \u001b[0mtrack\u001b[0m\u001b[0;34m=\u001b[0m\u001b[0mtrack\u001b[0m\u001b[0;34m)\u001b[0m\u001b[0;34m]\u001b[0m\u001b[0;34m\u001b[0m\u001b[0;34m\u001b[0m\u001b[0m\n\u001b[0m\u001b[1;32m    476\u001b[0m         \u001b[0;31m# have first part already, only loop while more to receive\u001b[0m\u001b[0;34m\u001b[0m\u001b[0;34m\u001b[0m\u001b[0;34m\u001b[0m\u001b[0m\n",
      "\u001b[0;32mzmq/backend/cython/socket.pyx\u001b[0m in \u001b[0;36mzmq.backend.cython.socket.Socket.recv\u001b[0;34m()\u001b[0m\n",
      "\u001b[0;32mzmq/backend/cython/socket.pyx\u001b[0m in \u001b[0;36mzmq.backend.cython.socket.Socket.recv\u001b[0;34m()\u001b[0m\n",
      "\u001b[0;32mzmq/backend/cython/socket.pyx\u001b[0m in \u001b[0;36mzmq.backend.cython.socket._recv_copy\u001b[0;34m()\u001b[0m\n",
      "\u001b[0;32m/usr/local/lib/python3.6/dist-packages/zmq/backend/cython/checkrc.pxd\u001b[0m in \u001b[0;36mzmq.backend.cython.checkrc._check_rc\u001b[0;34m()\u001b[0m\n",
      "\u001b[0;31mKeyboardInterrupt\u001b[0m: ",
      "\nDuring handling of the above exception, another exception occurred:\n",
      "\u001b[0;31mKeyboardInterrupt\u001b[0m                         Traceback (most recent call last)",
      "\u001b[0;32m<ipython-input-21-6738f928fa25>\u001b[0m in \u001b[0;36m<module>\u001b[0;34m()\u001b[0m\n\u001b[1;32m     24\u001b[0m     \u001b[0mprint\u001b[0m\u001b[0;34m(\u001b[0m\u001b[0;34m\"\\tFleiss for Dist: \"\u001b[0m\u001b[0;34m+\u001b[0m\u001b[0mstr\u001b[0m\u001b[0;34m(\u001b[0m\u001b[0mdistTask\u001b[0m\u001b[0;34m.\u001b[0m\u001b[0mmulti_kappa\u001b[0m\u001b[0;34m(\u001b[0m\u001b[0;34m)\u001b[0m\u001b[0;34m)\u001b[0m\u001b[0;34m+\u001b[0m\u001b[0;34m\"\\tAlpha for Dist: \"\u001b[0m\u001b[0;34m+\u001b[0m\u001b[0mstr\u001b[0m\u001b[0;34m(\u001b[0m\u001b[0mdistTask\u001b[0m\u001b[0;34m.\u001b[0m\u001b[0malpha\u001b[0m\u001b[0;34m(\u001b[0m\u001b[0;34m)\u001b[0m\u001b[0;34m)\u001b[0m\u001b[0;34m)\u001b[0m\u001b[0;34m\u001b[0m\u001b[0;34m\u001b[0m\u001b[0m\n\u001b[1;32m     25\u001b[0m     \u001b[0mprint\u001b[0m\u001b[0;34m(\u001b[0m\u001b[0;34m)\u001b[0m\u001b[0;34m\u001b[0m\u001b[0;34m\u001b[0m\u001b[0m\n\u001b[0;32m---> 26\u001b[0;31m     \u001b[0minput\u001b[0m\u001b[0;34m(\u001b[0m\u001b[0;34m\"Ready for the next set? \"\u001b[0m\u001b[0;34m)\u001b[0m\u001b[0;34m\u001b[0m\u001b[0;34m\u001b[0m\u001b[0m\n\u001b[0m\u001b[1;32m     27\u001b[0m \u001b[0;34m\u001b[0m\u001b[0m\n\u001b[1;32m     28\u001b[0m \u001b[0;31m#for t in tweets:\u001b[0m\u001b[0;34m\u001b[0m\u001b[0;34m\u001b[0m\u001b[0;34m\u001b[0m\u001b[0m\n",
      "\u001b[0;32m/usr/local/lib/python3.6/dist-packages/ipykernel/kernelbase.py\u001b[0m in \u001b[0;36mraw_input\u001b[0;34m(self, prompt)\u001b[0m\n\u001b[1;32m    702\u001b[0m             \u001b[0mself\u001b[0m\u001b[0;34m.\u001b[0m\u001b[0m_parent_ident\u001b[0m\u001b[0;34m,\u001b[0m\u001b[0;34m\u001b[0m\u001b[0;34m\u001b[0m\u001b[0m\n\u001b[1;32m    703\u001b[0m             \u001b[0mself\u001b[0m\u001b[0;34m.\u001b[0m\u001b[0m_parent_header\u001b[0m\u001b[0;34m,\u001b[0m\u001b[0;34m\u001b[0m\u001b[0;34m\u001b[0m\u001b[0m\n\u001b[0;32m--> 704\u001b[0;31m             \u001b[0mpassword\u001b[0m\u001b[0;34m=\u001b[0m\u001b[0;32mFalse\u001b[0m\u001b[0;34m,\u001b[0m\u001b[0;34m\u001b[0m\u001b[0;34m\u001b[0m\u001b[0m\n\u001b[0m\u001b[1;32m    705\u001b[0m         )\n\u001b[1;32m    706\u001b[0m \u001b[0;34m\u001b[0m\u001b[0m\n",
      "\u001b[0;32m/usr/local/lib/python3.6/dist-packages/ipykernel/kernelbase.py\u001b[0m in \u001b[0;36m_input_request\u001b[0;34m(self, prompt, ident, parent, password)\u001b[0m\n\u001b[1;32m    732\u001b[0m             \u001b[0;32mexcept\u001b[0m \u001b[0mKeyboardInterrupt\u001b[0m\u001b[0;34m:\u001b[0m\u001b[0;34m\u001b[0m\u001b[0;34m\u001b[0m\u001b[0m\n\u001b[1;32m    733\u001b[0m                 \u001b[0;31m# re-raise KeyboardInterrupt, to truncate traceback\u001b[0m\u001b[0;34m\u001b[0m\u001b[0;34m\u001b[0m\u001b[0;34m\u001b[0m\u001b[0m\n\u001b[0;32m--> 734\u001b[0;31m                 \u001b[0;32mraise\u001b[0m \u001b[0mKeyboardInterrupt\u001b[0m\u001b[0;34m\u001b[0m\u001b[0;34m\u001b[0m\u001b[0m\n\u001b[0m\u001b[1;32m    735\u001b[0m             \u001b[0;32melse\u001b[0m\u001b[0;34m:\u001b[0m\u001b[0;34m\u001b[0m\u001b[0;34m\u001b[0m\u001b[0m\n\u001b[1;32m    736\u001b[0m                 \u001b[0;32mbreak\u001b[0m\u001b[0;34m\u001b[0m\u001b[0;34m\u001b[0m\u001b[0m\n",
      "\u001b[0;31mKeyboardInterrupt\u001b[0m: "
     ]
    }
   ],
   "source": [
    "##  this = [t.id, t.dataset, t.text] + [o for o in t.off] + [s for s in t.slur] + [a for a in t.adjNom] + [d for d in t.dist]\n",
    "\n",
    "for r in [(rows3,3)]:\n",
    "    raters = r[1]\n",
    "    allOff = []\n",
    "    allSlur = []\n",
    "    allNom = []\n",
    "    allDist = []\n",
    "    for line in r[0]:\n",
    "        id = line[0]\n",
    "        allOff += [[str(i), id, line[3+i]] for i in range(raters)]\n",
    "        allSlur += [[str(i), id, line[4+i]] for i in range(raters)]\n",
    "        allNom += [[str(i), id, line[5+i]] for i in range(raters)]\n",
    "        allDist += [[str(i), id, line[6+i]] for i in range(raters)]\n",
    "    offTask = agreement.AnnotationTask(data=allOff)\n",
    "    slurTask = agreement.AnnotationTask(data=allSlur)\n",
    "    nomTask = agreement.AnnotationTask(data=allNom)\n",
    "    distTask = agreement.AnnotationTask(data=allDist)\n",
    "\n",
    "    print()\n",
    "    print(\"Agreement for tweets with \"+str(raters)+\" ratings (num=\"+str(len(r[0]))+\"):\")\n",
    "    print(\"\\tFleiss for Off: \"+str(offTask.multi_kappa())+\"\\tAlpha for Off: \"+str(offTask.alpha()))\n",
    "    print(\"\\tFleiss for Slur: \"+str(slurTask.multi_kappa())+\"\\tAlpha for Slur: \"+str(slurTask.alpha()))\n",
    "    print(\"\\tFleiss for AdjNom: \"+str(nomTask.multi_kappa())+\"\\tAlpha for AdjNom: \"+str(nomTask.alpha()))\n",
    "    print(\"\\tFleiss for Dist: \"+str(distTask.multi_kappa())+\"\\tAlpha for Dist: \"+str(distTask.alpha()))\n",
    "    print()\n",
    "    input(\"Ready for the next set? \")\n",
    "\n",
    "#for t in tweets:\n",
    " #   ratings = len(t.annos)\n",
    " #   if ratings == 1:\n",
    " #       pass\n",
    " #   elif ratings == 2:\n",
    " #       allOff2 = []\n",
    " #   offData = [[str(i), t.id, t.off[i]] for i in range(ratings)]   \n",
    " #   slurData = [[str(i), t.id, t.slur[i]] for i in range(ratings)]\n",
    " #   nomData = [[str(i), t.id, t.adjNom[i]] for i in range(ratings)]\n",
    " #   distData = [[t.annos[i], t.id, t.dist[i]] for i in range(ratings)]\n",
    " #   if ratings == 3:\n",
    " #       allOffData3 += offData\n",
    " #       allSlurData3 += slurData\n",
    " #       allNomData3 += nomData\n",
    " #       allDistData3 += distData\n",
    " #   else: pass\n",
    "\n",
    "#offTask = agreement.AnnotationTask(data=allOffData)\n",
    "#print(\"fleiss \"+ str(offTask.multi_kappa()))\n",
    "\n"
   ]
  },
  {
   "cell_type": "markdown",
   "metadata": {
    "colab_type": "text",
    "id": "TR51ufJrU1-d"
   },
   "source": [
    "### Analysis of classification results"
   ]
  },
  {
   "cell_type": "code",
   "execution_count": null,
   "metadata": {
    "colab": {
     "base_uri": "https://localhost:8080/",
     "height": 51
    },
    "colab_type": "code",
    "id": "r5If4l4Rmwpj",
    "outputId": "ebbd6920-cbe7-4ba5-917e-f8337b7139f7"
   },
   "outputs": [
    {
     "name": "stdout",
     "output_type": "stream",
     "text": [
      "2036\n",
      "2159\n"
     ]
    }
   ],
   "source": [
    "deiol = []\n",
    "results = []\n",
    "\n",
    "with open('deiol_allAnnos_majVote_3per.csv') as csvfile:\n",
    "    csvreader = csv.reader(csvfile)\n",
    "    for row in csvreader:\n",
    "        deiol.append(row)\n",
    "\n",
    "with open('results_majVote_dec28_withCats.csv') as csvfile:\n",
    "    csvreader = csv.reader(csvfile)\n",
    "    for row in csvreader:\n",
    "        results.append(row)\n",
    "\n",
    "print(len(deiol))\n",
    "print(len(results))"
   ]
  },
  {
   "cell_type": "code",
   "execution_count": null,
   "metadata": {
    "colab": {
     "base_uri": "https://localhost:8080/",
     "height": 51
    },
    "colab_type": "code",
    "id": "iNQPstZZWEGV",
    "outputId": "649ed2ca-46e5-4653-9df9-e994276c551b"
   },
   "outputs": [
    {
     "name": "stdout",
     "output_type": "stream",
     "text": [
      "2035 2158\n",
      "131 19\n"
     ]
    }
   ],
   "source": [
    "idsD = []\n",
    "idsR = []\n",
    "\n",
    "for x in deiol[1:]:\n",
    "    idsD.append(x[0])\n",
    "for x in results[1:]:\n",
    "    idsR.append(x[0])\n",
    "\n",
    "print(len(idsD), len(idsR))\n",
    "\n",
    "rNotD = [x for x in idsR if x not in idsD]\n",
    "dNotR = [x for x in idsD if x not in idsR]\n",
    "\n",
    "print(len(rNotD), len(dNotR))"
   ]
  },
  {
   "cell_type": "code",
   "execution_count": null,
   "metadata": {
    "colab": {
     "base_uri": "https://localhost:8080/",
     "height": 34
    },
    "colab_type": "code",
    "id": "yGlvV_WowxfC",
    "outputId": "aa70df95-fb84-4f61-a583-8f3d9d4e7933"
   },
   "outputs": [
    {
     "name": "stdout",
     "output_type": "stream",
     "text": [
      "2016\n"
     ]
    }
   ],
   "source": [
    "wanted = set(idsD) & set(idsR)\n",
    "print(len(wanted))"
   ]
  },
  {
   "cell_type": "code",
   "execution_count": null,
   "metadata": {
    "colab": {
     "base_uri": "https://localhost:8080/",
     "height": 34
    },
    "colab_type": "code",
    "id": "wcQv8vCRxK1y",
    "outputId": "24e232b3-4b28-4952-eec4-2d7f843abe7f"
   },
   "outputs": [
    {
     "name": "stdout",
     "output_type": "stream",
     "text": [
      "2016\n"
     ]
    }
   ],
   "source": [
    "wantedL = list(wanted)\n",
    "print(len(wantedL))"
   ]
  },
  {
   "cell_type": "code",
   "execution_count": null,
   "metadata": {
    "colab": {
     "base_uri": "https://localhost:8080/",
     "height": 34
    },
    "colab_type": "code",
    "id": "WjnOKWPnxivt",
    "outputId": "b05e473d-9a74-4cbe-9fd5-bfc1943603e3"
   },
   "outputs": [
    {
     "name": "stdout",
     "output_type": "stream",
     "text": [
      "2016\n"
     ]
    }
   ],
   "source": [
    "dresults = []\n",
    "ids = []\n",
    "for r in results:\n",
    "    id = r[0]\n",
    "    if id in wantedL and id not in ids:\n",
    "        dresults.append(r)\n",
    "        ids.append(id)\n",
    "print(len(dresults))"
   ]
  },
  {
   "cell_type": "code",
   "execution_count": null,
   "metadata": {
    "colab": {},
    "colab_type": "code",
    "id": "L19pkn9aylg-"
   },
   "outputs": [],
   "source": [
    "with open('results_deiol_majVote.csv','w') as csvfile:\n",
    "    csvwriter = csv.writer(csvfile)\n",
    "    csvwriter.writerow(deiol[0])\n",
    "    csvwriter.writerows(dresults)"
   ]
  },
  {
   "cell_type": "code",
   "execution_count": null,
   "metadata": {
    "colab": {},
    "colab_type": "code",
    "id": "XPF3BIfjvuNb"
   },
   "outputs": [],
   "source": [
    "import pandas as pd\n",
    "df = pd.read_csv(\"test_results.tsv\", sep=\"\\t\", header=None)\n",
    "tf = pd.read_csv(\"pejorative.csv\")"
   ]
  },
  {
   "cell_type": "code",
   "execution_count": null,
   "metadata": {
    "colab": {},
    "colab_type": "code",
    "id": "MH5ERbPswcr8"
   },
   "outputs": [],
   "source": [
    "olid_2020_df = pd.concat([tf[\"ID\"], df.idxmax(axis=1)], axis=1)\n",
    "olid_2020_df[0] = olid_2020_df[0].apply(lambda x: \"OFF\" if bool(x) else \"NOT\")\n",
    "\n",
    "for i in range(len(dresults)):\n",
    "  ind = dresults[i][0]\n",
    "  try:\n",
    "    olid_2020_result = olid_2020_df[olid_2020_df[\"ID\"] == ind][0].values[0]\n",
    "    dresults[i].append(olid_2020_result)\n",
    "  except:\n",
    "    olid_2020_result = olid_2020_df[olid_2020_df[\"ID\"] == ind[:-1]][0].values[0]\n",
    "    dresults[i].append(olid_2020_result)\n",
    "    pass"
   ]
  },
  {
   "cell_type": "markdown",
   "metadata": {
    "colab_type": "text",
    "id": "hSFgye_m0QOM"
   },
   "source": [
    "### And now some analysis!!!"
   ]
  },
  {
   "cell_type": "code",
   "execution_count": null,
   "metadata": {
    "colab": {},
    "colab_type": "code",
    "id": "LXryXyfN0S0s"
   },
   "outputs": [],
   "source": [
    "### our main file is dresults\n",
    "\n",
    "hasoc = []\n",
    "hasoc_binary = []\n",
    "olid = []\n",
    "jigsaw = []\n",
    "olid_2020 = []\n",
    "### build lists of tuples, where each consists of (category, modelResult)"
   ]
  },
  {
   "cell_type": "code",
   "execution_count": null,
   "metadata": {
    "colab": {
     "base_uri": "https://localhost:8080/",
     "height": 34
    },
    "colab_type": "code",
    "id": "G53KoR1E0b0L",
    "outputId": "fd5956ff-b155-4c50-baea-19a29eb9fac2"
   },
   "outputs": [
    {
     "data": {
      "text/plain": [
       "'D-6561'"
      ]
     },
     "execution_count": 32,
     "metadata": {
      "tags": []
     },
     "output_type": "execute_result"
    }
   ],
   "source": [
    "# print(dresults[0])\n",
    "# print(len(dresults))\n",
    "ind"
   ]
  },
  {
   "cell_type": "code",
   "execution_count": null,
   "metadata": {
    "colab": {},
    "colab_type": "code",
    "id": "n_o02pyf0tgG"
   },
   "outputs": [],
   "source": [
    "for line in dresults:\n",
    "    cat = line[7]\n",
    "    hasoc.append((cat, line[9]))\n",
    "    hasoc_binary.append((cat, line[10]))\n",
    "    olid.append((cat, line[11]))\n",
    "    jigsaw.append((cat, line[12]))\n",
    "    olid_2020.append((cat, line[13]))\n",
    "\n"
   ]
  },
  {
   "cell_type": "code",
   "execution_count": null,
   "metadata": {
    "colab": {
     "base_uri": "https://localhost:8080/",
     "height": 187
    },
    "colab_type": "code",
    "id": "iKTEGg6Xx5us",
    "outputId": "cf952a5d-e92f-4bef-925e-8a238ac19ffa"
   },
   "outputs": [
    {
     "data": {
      "text/plain": [
       "[('offOther', 'HOF'),\n",
       " ('offDist', 'NOT'),\n",
       " ('offNom', 'NOT'),\n",
       " ('offDist', 'NOT'),\n",
       " ('reclaimed', 'HOF'),\n",
       " ('offDist', 'NOT'),\n",
       " ('nonNom', 'NOT'),\n",
       " ('nonNom', 'NOT'),\n",
       " ('nonNom', 'NOT'),\n",
       " ('offNom', 'HOF')]"
      ]
     },
     "execution_count": 35,
     "metadata": {
      "tags": []
     },
     "output_type": "execute_result"
    }
   ],
   "source": [
    "olid[0:10]"
   ]
  },
  {
   "cell_type": "code",
   "execution_count": null,
   "metadata": {
    "colab": {
     "base_uri": "https://localhost:8080/",
     "height": 187
    },
    "colab_type": "code",
    "id": "T98zvtEHDBR3",
    "outputId": "bcab8ecf-56bd-4981-a8cb-fafcb67dfa84"
   },
   "outputs": [
    {
     "data": {
      "text/plain": [
       "[('offOther', 'OFF'),\n",
       " ('offDist', 'OFF'),\n",
       " ('offNom', 'OFF'),\n",
       " ('offDist', 'NOT'),\n",
       " ('reclaimed', 'OFF'),\n",
       " ('offDist', 'OFF'),\n",
       " ('nonNom', 'NOT'),\n",
       " ('nonNom', 'NOT'),\n",
       " ('nonNom', 'NOT'),\n",
       " ('offNom', 'OFF')]"
      ]
     },
     "execution_count": 36,
     "metadata": {
      "tags": []
     },
     "output_type": "execute_result"
    }
   ],
   "source": [
    "olid_2020[:10]"
   ]
  },
  {
   "cell_type": "code",
   "execution_count": null,
   "metadata": {
    "colab": {
     "base_uri": "https://localhost:8080/",
     "height": 34
    },
    "colab_type": "code",
    "id": "HpB8-UHB1WY0",
    "outputId": "0242906c-0ec7-4cd6-8050-44b856fd673c"
   },
   "outputs": [
    {
     "name": "stdout",
     "output_type": "stream",
     "text": [
      "2016 2016 2016 2016\n"
     ]
    }
   ],
   "source": [
    "olid[26]\n",
    "print(len(hasoc), len(hasoc_binary), len(olid), len(jigsaw))"
   ]
  },
  {
   "cell_type": "code",
   "execution_count": null,
   "metadata": {
    "colab": {},
    "colab_type": "code",
    "id": "Ob5nD1Ed2p8A"
   },
   "outputs": [],
   "source": [
    "def getResultsBinary(pairs, dicto):\n",
    "    counts = 0\n",
    "    for p in pairs:\n",
    "        cat = p[0]\n",
    "        label = p[1]\n",
    "        if label == 'NOT':\n",
    "            dicto[cat][1] += 1\n",
    "            counts += 1\n",
    "        elif label == 'HOF' or label == 'OFF' or label == 'TOX':\n",
    "            dicto[cat][0] += 1\n",
    "            counts += 1\n",
    "        else:\n",
    "            print(\"label error:\", label)\n",
    "            input(\"okay? \")\n",
    "    print(counts)\n",
    "    print(dicto)"
   ]
  },
  {
   "cell_type": "code",
   "execution_count": null,
   "metadata": {
    "colab": {},
    "colab_type": "code",
    "id": "zvC901rp3oi5"
   },
   "outputs": [],
   "source": [
    "def getResultsHasoc(pairs, dicto):\n",
    "    counts = 0\n",
    "    for p in pairs:\n",
    "        cat = p[0]\n",
    "        label = p[1]\n",
    "        #print(cat, label)\n",
    "        if label == 'HATE':\n",
    "            dicto[cat][0] += 1\n",
    "            counts += 1\n",
    "        elif label ==  'OFFN' or label == 'OFF':\n",
    "            dicto[cat][1] += 1\n",
    "            counts += 1\n",
    "        elif label == 'PRFN':\n",
    "            dicto[cat][2] += 1\n",
    "            counts += 1\n",
    "        elif label == 'NOT':\n",
    "            dicto[cat][3] += 1\n",
    "            counts += 1\n",
    "        else:\n",
    "            print(\"label error:\", label)\n",
    "            input(\"okay? \")\n",
    "    print(counts)\n",
    "    print(dicto)"
   ]
  },
  {
   "cell_type": "code",
   "execution_count": null,
   "metadata": {
    "colab": {},
    "colab_type": "code",
    "id": "ZXIPCBJR6jCd"
   },
   "outputs": [],
   "source": [
    "### offSlur, offNom, offDist, offBoth, offNone: hasoc-HATE/OFFN/PRFN, hasoc_binary-HOF, olid-HOF, jigsaw-TOX\n",
    "### reclaimed, nonNom, nonDist, nonBoth, nonNone: hasoc-NOT, hasoc_binary-NOT, olid-NOT, jigsaw-NOT\n",
    "### binary dictionaries - [OFF, NOT]\n",
    "### 4part dictionary - [HATE, OFFN, PRFN, NOT]\n",
    "\n",
    "hasocDict = {}\n",
    "hasoc_binaryDict = {}\n",
    "olidDict = {}\n",
    "jigsawDict = {}\n",
    "olid_2020_Dict = {}\n",
    "\n",
    "for k in cats.keys():\n",
    "    hasocDict[k] = [0,0,0,0]\n",
    "    hasoc_binaryDict[k] = [0,0]\n",
    "    olidDict[k] = [0,0]\n",
    "    jigsawDict[k] = [0,0]\n",
    "    olid_2020_Dict[k] = [0,0]"
   ]
  },
  {
   "cell_type": "code",
   "execution_count": null,
   "metadata": {
    "colab": {
     "base_uri": "https://localhost:8080/",
     "height": 187
    },
    "colab_type": "code",
    "id": "jvP8ZIQqyBZA",
    "outputId": "068459cf-4062-4ca5-a14b-05ab85a5d7fb"
   },
   "outputs": [
    {
     "data": {
      "text/plain": [
       "{'nonBoth': [0, 0, 0, 0],\n",
       " 'nonDist': [1, 0, 0, 5],\n",
       " 'nonNom': [9, 8, 10, 114],\n",
       " 'nonNone': [20, 18, 24, 463],\n",
       " 'offBoth': [5, 4, 3, 19],\n",
       " 'offDist': [6, 5, 2, 6],\n",
       " 'offNom': [27, 19, 25, 130],\n",
       " 'offOther': [12, 23, 12, 34],\n",
       " 'offSlur': [30, 129, 287, 174],\n",
       " 'reclaimed': [3, 14, 253, 122]}"
      ]
     },
     "execution_count": 46,
     "metadata": {
      "tags": []
     },
     "output_type": "execute_result"
    }
   ],
   "source": [
    "hasocDict"
   ]
  },
  {
   "cell_type": "code",
   "execution_count": null,
   "metadata": {
    "colab": {
     "base_uri": "https://localhost:8080/",
     "height": 292
    },
    "colab_type": "code",
    "id": "nF6VN4IM4Ujm",
    "outputId": "75f6275c-ec42-4359-aab0-a7bc449edf0e"
   },
   "outputs": [
    {
     "name": "stdout",
     "output_type": "stream",
     "text": [
      "running full hasoc\n",
      "2016\n",
      "{'offSlur': [30, 129, 287, 174], 'offNom': [27, 19, 25, 130], 'offDist': [6, 5, 2, 6], 'offBoth': [5, 4, 3, 19], 'offOther': [12, 23, 12, 34], 'reclaimed': [3, 14, 253, 122], 'nonNom': [9, 8, 10, 114], 'nonDist': [1, 0, 0, 5], 'nonBoth': [0, 0, 0, 0], 'nonNone': [20, 18, 24, 463]}\n",
      "running hasoc binary\n",
      "2016\n",
      "{'offSlur': [480, 140], 'offNom': [81, 120], 'offDist': [13, 6], 'offBoth': [14, 17], 'offOther': [60, 21], 'reclaimed': [308, 84], 'nonNom': [48, 93], 'nonDist': [2, 4], 'nonBoth': [0, 0], 'nonNone': [117, 408]}\n",
      "running olid\n",
      "2016\n",
      "{'offSlur': [529, 91], 'offNom': [128, 73], 'offDist': [13, 6], 'offBoth': [23, 8], 'offOther': [64, 17], 'reclaimed': [310, 82], 'nonNom': [61, 80], 'nonDist': [4, 2], 'nonBoth': [0, 0], 'nonNone': [142, 383]}\n",
      "running jigsaw\n",
      "2016\n",
      "{'offSlur': [547, 73], 'offNom': [80, 121], 'offDist': [12, 7], 'offBoth': [7, 24], 'offOther': [62, 19], 'reclaimed': [337, 55], 'nonNom': [40, 101], 'nonDist': [3, 3], 'nonBoth': [0, 0], 'nonNone': [104, 421]}\n",
      "running olid_2020\n",
      "2016\n",
      "{'offSlur': [540, 80], 'offNom': [119, 82], 'offDist': [15, 4], 'offBoth': [22, 9], 'offOther': [65, 16], 'reclaimed': [324, 68], 'nonNom': [50, 91], 'nonDist': [4, 2], 'nonBoth': [0, 0], 'nonNone': [148, 377]}\n"
     ]
    }
   ],
   "source": [
    "print(\"running full hasoc\")\n",
    "getResultsHasoc(hasoc, hasocDict)\n",
    "print(\"running hasoc binary\")\n",
    "getResultsBinary(hasoc_binary, hasoc_binaryDict)\n",
    "print(\"running olid\")\n",
    "getResultsBinary(olid, olidDict)\n",
    "print(\"running jigsaw\")\n",
    "getResultsBinary(jigsaw, jigsawDict)\n",
    "print(\"running olid_2020\")\n",
    "getResultsBinary(olid, olid_2020_Dict)"
   ]
  },
  {
   "cell_type": "code",
   "execution_count": null,
   "metadata": {
    "colab": {},
    "colab_type": "code",
    "id": "yNgX5kkt5vr6"
   },
   "outputs": [],
   "source": [
    "def printPerc(dicto):\n",
    "    for k in dicto.keys():\n",
    "        print(k)\n",
    "        total = sum(dicto[k])\n",
    "        if total == 0:\n",
    "            print(\"no instances\")\n",
    "            print()\n",
    "            continue\n",
    "        for n in dicto[k]:\n",
    "            print(n/total, sep=\"\\t\")\n",
    "        print()"
   ]
  },
  {
   "cell_type": "code",
   "execution_count": null,
   "metadata": {
    "colab": {
     "base_uri": "https://localhost:8080/",
     "height": 986
    },
    "colab_type": "code",
    "id": "QtQvBfwsDZcb",
    "outputId": "8a859126-0c33-47a3-8e26-033b99473fa0"
   },
   "outputs": [
    {
     "name": "stdout",
     "output_type": "stream",
     "text": [
      "offSlur\n",
      "0.04838709677419355\n",
      "0.20806451612903226\n",
      "0.4629032258064516\n",
      "0.2806451612903226\n",
      "\n",
      "offNom\n",
      "0.13432835820895522\n",
      "0.0945273631840796\n",
      "0.12437810945273632\n",
      "0.6467661691542289\n",
      "\n",
      "offDist\n",
      "0.3157894736842105\n",
      "0.2631578947368421\n",
      "0.10526315789473684\n",
      "0.3157894736842105\n",
      "\n",
      "offBoth\n",
      "0.16129032258064516\n",
      "0.12903225806451613\n",
      "0.0967741935483871\n",
      "0.6129032258064516\n",
      "\n",
      "offOther\n",
      "0.14814814814814814\n",
      "0.2839506172839506\n",
      "0.14814814814814814\n",
      "0.41975308641975306\n",
      "\n",
      "reclaimed\n",
      "0.007653061224489796\n",
      "0.03571428571428571\n",
      "0.6454081632653061\n",
      "0.3112244897959184\n",
      "\n",
      "nonNom\n",
      "0.06382978723404255\n",
      "0.05673758865248227\n",
      "0.07092198581560284\n",
      "0.8085106382978723\n",
      "\n",
      "nonDist\n",
      "0.16666666666666666\n",
      "0.0\n",
      "0.0\n",
      "0.8333333333333334\n",
      "\n",
      "nonBoth\n",
      "no instances\n",
      "\n",
      "nonNone\n",
      "0.0380952380952381\n",
      "0.03428571428571429\n",
      "0.045714285714285714\n",
      "0.8819047619047619\n",
      "\n"
     ]
    }
   ],
   "source": [
    "printPerc(hasocDict)"
   ]
  },
  {
   "cell_type": "code",
   "execution_count": null,
   "metadata": {
    "colab": {
     "base_uri": "https://localhost:8080/",
     "height": 680
    },
    "colab_type": "code",
    "id": "zfhThsadFS4I",
    "outputId": "1ea06334-bbe5-431c-c2c0-b5f5d4c2a6a5"
   },
   "outputs": [
    {
     "name": "stdout",
     "output_type": "stream",
     "text": [
      "offSlur\n",
      "0.7741935483870968\n",
      "0.22580645161290322\n",
      "\n",
      "offNom\n",
      "0.40298507462686567\n",
      "0.5970149253731343\n",
      "\n",
      "offDist\n",
      "0.6842105263157895\n",
      "0.3157894736842105\n",
      "\n",
      "offBoth\n",
      "0.45161290322580644\n",
      "0.5483870967741935\n",
      "\n",
      "offOther\n",
      "0.7407407407407407\n",
      "0.25925925925925924\n",
      "\n",
      "reclaimed\n",
      "0.7857142857142857\n",
      "0.21428571428571427\n",
      "\n",
      "nonNom\n",
      "0.3404255319148936\n",
      "0.6595744680851063\n",
      "\n",
      "nonDist\n",
      "0.3333333333333333\n",
      "0.6666666666666666\n",
      "\n",
      "nonBoth\n",
      "no instances\n",
      "\n",
      "nonNone\n",
      "0.22285714285714286\n",
      "0.7771428571428571\n",
      "\n"
     ]
    }
   ],
   "source": [
    "printPerc(hasoc_binaryDict)"
   ]
  },
  {
   "cell_type": "code",
   "execution_count": null,
   "metadata": {
    "colab": {
     "base_uri": "https://localhost:8080/",
     "height": 680
    },
    "colab_type": "code",
    "id": "6KgZBzpdFm_y",
    "outputId": "2bd44f1a-284a-4b55-c4b4-8903d12c5137"
   },
   "outputs": [
    {
     "name": "stdout",
     "output_type": "stream",
     "text": [
      "offSlur\n",
      "0.853225806451613\n",
      "0.14677419354838708\n",
      "\n",
      "offNom\n",
      "0.6368159203980099\n",
      "0.36318407960199006\n",
      "\n",
      "offDist\n",
      "0.6842105263157895\n",
      "0.3157894736842105\n",
      "\n",
      "offBoth\n",
      "0.7419354838709677\n",
      "0.25806451612903225\n",
      "\n",
      "offOther\n",
      "0.7901234567901234\n",
      "0.20987654320987653\n",
      "\n",
      "reclaimed\n",
      "0.7908163265306123\n",
      "0.20918367346938777\n",
      "\n",
      "nonNom\n",
      "0.4326241134751773\n",
      "0.5673758865248227\n",
      "\n",
      "nonDist\n",
      "0.6666666666666666\n",
      "0.3333333333333333\n",
      "\n",
      "nonBoth\n",
      "no instances\n",
      "\n",
      "nonNone\n",
      "0.2704761904761905\n",
      "0.7295238095238096\n",
      "\n"
     ]
    }
   ],
   "source": [
    "printPerc(olidDict)"
   ]
  },
  {
   "cell_type": "code",
   "execution_count": null,
   "metadata": {
    "colab": {},
    "colab_type": "code",
    "id": "fJRqKlEZFUvd"
   },
   "outputs": [],
   "source": []
  },
  {
   "cell_type": "code",
   "execution_count": null,
   "metadata": {
    "colab": {
     "base_uri": "https://localhost:8080/",
     "height": 680
    },
    "colab_type": "code",
    "id": "cf0efePjF-K4",
    "outputId": "754be8a2-9107-4f66-e0e7-051f02091e9e"
   },
   "outputs": [
    {
     "name": "stdout",
     "output_type": "stream",
     "text": [
      "offSlur\n",
      "0.882258064516129\n",
      "0.11774193548387096\n",
      "\n",
      "offNom\n",
      "0.39800995024875624\n",
      "0.6019900497512438\n",
      "\n",
      "offDist\n",
      "0.631578947368421\n",
      "0.3684210526315789\n",
      "\n",
      "offBoth\n",
      "0.22580645161290322\n",
      "0.7741935483870968\n",
      "\n",
      "offOther\n",
      "0.7654320987654321\n",
      "0.2345679012345679\n",
      "\n",
      "reclaimed\n",
      "0.8596938775510204\n",
      "0.14030612244897958\n",
      "\n",
      "nonNom\n",
      "0.28368794326241137\n",
      "0.7163120567375887\n",
      "\n",
      "nonDist\n",
      "0.5\n",
      "0.5\n",
      "\n",
      "nonBoth\n",
      "no instances\n",
      "\n",
      "nonNone\n",
      "0.1980952380952381\n",
      "0.8019047619047619\n",
      "\n"
     ]
    }
   ],
   "source": [
    "printPerc(jigsawDict)"
   ]
  },
  {
   "cell_type": "code",
   "execution_count": null,
   "metadata": {
    "colab": {
     "base_uri": "https://localhost:8080/",
     "height": 680
    },
    "colab_type": "code",
    "id": "3vUZN-6mF_la",
    "outputId": "24ca910a-fda8-43ab-8ffe-15c3fbe756b3"
   },
   "outputs": [
    {
     "name": "stdout",
     "output_type": "stream",
     "text": [
      "offSlur\n",
      "0.8709677419354839\n",
      "0.12903225806451613\n",
      "\n",
      "offNom\n",
      "0.5920398009950248\n",
      "0.4079601990049751\n",
      "\n",
      "offDist\n",
      "0.7894736842105263\n",
      "0.21052631578947367\n",
      "\n",
      "offBoth\n",
      "0.7096774193548387\n",
      "0.2903225806451613\n",
      "\n",
      "offOther\n",
      "0.8024691358024691\n",
      "0.19753086419753085\n",
      "\n",
      "reclaimed\n",
      "0.826530612244898\n",
      "0.17346938775510204\n",
      "\n",
      "nonNom\n",
      "0.3546099290780142\n",
      "0.6453900709219859\n",
      "\n",
      "nonDist\n",
      "0.6666666666666666\n",
      "0.3333333333333333\n",
      "\n",
      "nonBoth\n",
      "no instances\n",
      "\n",
      "nonNone\n",
      "0.2819047619047619\n",
      "0.7180952380952381\n",
      "\n"
     ]
    }
   ],
   "source": [
    "printPerc(olid_2020_Dict)"
   ]
  },
  {
   "cell_type": "code",
   "execution_count": null,
   "metadata": {
    "colab": {},
    "colab_type": "code",
    "id": "HsbAwiYb8S00"
   },
   "outputs": [],
   "source": []
  }
 ],
 "metadata": {
  "colab": {
   "collapsed_sections": [],
   "name": "modified offLgAnalysis - 3 annos per",
   "provenance": [],
   "toc_visible": true
  },
  "kernelspec": {
   "display_name": "Python 3 (ipykernel)",
   "language": "python",
   "name": "python3"
  },
  "language_info": {
   "codemirror_mode": {
    "name": "ipython",
    "version": 3
   },
   "file_extension": ".py",
   "mimetype": "text/x-python",
   "name": "python",
   "nbconvert_exporter": "python",
   "pygments_lexer": "ipython3",
   "version": "3.8.3"
  }
 },
 "nbformat": 4,
 "nbformat_minor": 1
}
